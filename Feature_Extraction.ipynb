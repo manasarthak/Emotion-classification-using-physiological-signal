{
  "nbformat": 4,
  "nbformat_minor": 0,
  "metadata": {
    "colab": {
      "name": "Feature_Extraction.ipynb",
      "provenance": [],
      "collapsed_sections": [],
      "mount_file_id": "1P70ivZpMcNPgccCtVp6WzsshrLn8-jph",
      "authorship_tag": "ABX9TyOGzdpRDabJaMdklK03WUM0",
      "include_colab_link": true
    },
    "kernelspec": {
      "name": "python3",
      "display_name": "Python 3"
    },
    "language_info": {
      "name": "python"
    },
    "widgets": {
      "application/vnd.jupyter.widget-state+json": {
        "798c1f8483b24f719940de4d401d7f4e": {
          "model_module": "@jupyter-widgets/controls",
          "model_name": "HBoxModel",
          "model_module_version": "1.5.0",
          "state": {
            "_dom_classes": [],
            "_model_module": "@jupyter-widgets/controls",
            "_model_module_version": "1.5.0",
            "_model_name": "HBoxModel",
            "_view_count": null,
            "_view_module": "@jupyter-widgets/controls",
            "_view_module_version": "1.5.0",
            "_view_name": "HBoxView",
            "box_style": "",
            "children": [
              "IPY_MODEL_740fbebf0ad4472193c492aea6a9e8f1",
              "IPY_MODEL_d0602dac185146248a3867fae7b19153",
              "IPY_MODEL_83e09f6994884f98bbf9f0fe5ef8019d"
            ],
            "layout": "IPY_MODEL_f0970aa3d85041e88c1b966ca5893bb5"
          }
        },
        "740fbebf0ad4472193c492aea6a9e8f1": {
          "model_module": "@jupyter-widgets/controls",
          "model_name": "HTMLModel",
          "model_module_version": "1.5.0",
          "state": {
            "_dom_classes": [],
            "_model_module": "@jupyter-widgets/controls",
            "_model_module_version": "1.5.0",
            "_model_name": "HTMLModel",
            "_view_count": null,
            "_view_module": "@jupyter-widgets/controls",
            "_view_module_version": "1.5.0",
            "_view_name": "HTMLView",
            "description": "",
            "description_tooltip": null,
            "layout": "IPY_MODEL_6f01aaa16fc2405795f8f2c34dc03ce7",
            "placeholder": "​",
            "style": "IPY_MODEL_8267b360a24245898f32c931e4c6f08b",
            "value": "100%"
          }
        },
        "d0602dac185146248a3867fae7b19153": {
          "model_module": "@jupyter-widgets/controls",
          "model_name": "FloatProgressModel",
          "model_module_version": "1.5.0",
          "state": {
            "_dom_classes": [],
            "_model_module": "@jupyter-widgets/controls",
            "_model_module_version": "1.5.0",
            "_model_name": "FloatProgressModel",
            "_view_count": null,
            "_view_module": "@jupyter-widgets/controls",
            "_view_module_version": "1.5.0",
            "_view_name": "ProgressView",
            "bar_style": "success",
            "description": "",
            "description_tooltip": null,
            "layout": "IPY_MODEL_f87cc3b5190449a692e382bacb48d404",
            "max": 1280,
            "min": 0,
            "orientation": "horizontal",
            "style": "IPY_MODEL_1d066075d9be470b9952243ad8c22cbd",
            "value": 1280
          }
        },
        "83e09f6994884f98bbf9f0fe5ef8019d": {
          "model_module": "@jupyter-widgets/controls",
          "model_name": "HTMLModel",
          "model_module_version": "1.5.0",
          "state": {
            "_dom_classes": [],
            "_model_module": "@jupyter-widgets/controls",
            "_model_module_version": "1.5.0",
            "_model_name": "HTMLModel",
            "_view_count": null,
            "_view_module": "@jupyter-widgets/controls",
            "_view_module_version": "1.5.0",
            "_view_name": "HTMLView",
            "description": "",
            "description_tooltip": null,
            "layout": "IPY_MODEL_6e4731b075d547268dbfade6e3364005",
            "placeholder": "​",
            "style": "IPY_MODEL_8882f30b1fa544fa90372aa773713e35",
            "value": " 1280/1280 [00:53&lt;00:00, 24.20it/s]"
          }
        },
        "f0970aa3d85041e88c1b966ca5893bb5": {
          "model_module": "@jupyter-widgets/base",
          "model_name": "LayoutModel",
          "model_module_version": "1.2.0",
          "state": {
            "_model_module": "@jupyter-widgets/base",
            "_model_module_version": "1.2.0",
            "_model_name": "LayoutModel",
            "_view_count": null,
            "_view_module": "@jupyter-widgets/base",
            "_view_module_version": "1.2.0",
            "_view_name": "LayoutView",
            "align_content": null,
            "align_items": null,
            "align_self": null,
            "border": null,
            "bottom": null,
            "display": null,
            "flex": null,
            "flex_flow": null,
            "grid_area": null,
            "grid_auto_columns": null,
            "grid_auto_flow": null,
            "grid_auto_rows": null,
            "grid_column": null,
            "grid_gap": null,
            "grid_row": null,
            "grid_template_areas": null,
            "grid_template_columns": null,
            "grid_template_rows": null,
            "height": null,
            "justify_content": null,
            "justify_items": null,
            "left": null,
            "margin": null,
            "max_height": null,
            "max_width": null,
            "min_height": null,
            "min_width": null,
            "object_fit": null,
            "object_position": null,
            "order": null,
            "overflow": null,
            "overflow_x": null,
            "overflow_y": null,
            "padding": null,
            "right": null,
            "top": null,
            "visibility": null,
            "width": null
          }
        },
        "6f01aaa16fc2405795f8f2c34dc03ce7": {
          "model_module": "@jupyter-widgets/base",
          "model_name": "LayoutModel",
          "model_module_version": "1.2.0",
          "state": {
            "_model_module": "@jupyter-widgets/base",
            "_model_module_version": "1.2.0",
            "_model_name": "LayoutModel",
            "_view_count": null,
            "_view_module": "@jupyter-widgets/base",
            "_view_module_version": "1.2.0",
            "_view_name": "LayoutView",
            "align_content": null,
            "align_items": null,
            "align_self": null,
            "border": null,
            "bottom": null,
            "display": null,
            "flex": null,
            "flex_flow": null,
            "grid_area": null,
            "grid_auto_columns": null,
            "grid_auto_flow": null,
            "grid_auto_rows": null,
            "grid_column": null,
            "grid_gap": null,
            "grid_row": null,
            "grid_template_areas": null,
            "grid_template_columns": null,
            "grid_template_rows": null,
            "height": null,
            "justify_content": null,
            "justify_items": null,
            "left": null,
            "margin": null,
            "max_height": null,
            "max_width": null,
            "min_height": null,
            "min_width": null,
            "object_fit": null,
            "object_position": null,
            "order": null,
            "overflow": null,
            "overflow_x": null,
            "overflow_y": null,
            "padding": null,
            "right": null,
            "top": null,
            "visibility": null,
            "width": null
          }
        },
        "8267b360a24245898f32c931e4c6f08b": {
          "model_module": "@jupyter-widgets/controls",
          "model_name": "DescriptionStyleModel",
          "model_module_version": "1.5.0",
          "state": {
            "_model_module": "@jupyter-widgets/controls",
            "_model_module_version": "1.5.0",
            "_model_name": "DescriptionStyleModel",
            "_view_count": null,
            "_view_module": "@jupyter-widgets/base",
            "_view_module_version": "1.2.0",
            "_view_name": "StyleView",
            "description_width": ""
          }
        },
        "f87cc3b5190449a692e382bacb48d404": {
          "model_module": "@jupyter-widgets/base",
          "model_name": "LayoutModel",
          "model_module_version": "1.2.0",
          "state": {
            "_model_module": "@jupyter-widgets/base",
            "_model_module_version": "1.2.0",
            "_model_name": "LayoutModel",
            "_view_count": null,
            "_view_module": "@jupyter-widgets/base",
            "_view_module_version": "1.2.0",
            "_view_name": "LayoutView",
            "align_content": null,
            "align_items": null,
            "align_self": null,
            "border": null,
            "bottom": null,
            "display": null,
            "flex": null,
            "flex_flow": null,
            "grid_area": null,
            "grid_auto_columns": null,
            "grid_auto_flow": null,
            "grid_auto_rows": null,
            "grid_column": null,
            "grid_gap": null,
            "grid_row": null,
            "grid_template_areas": null,
            "grid_template_columns": null,
            "grid_template_rows": null,
            "height": null,
            "justify_content": null,
            "justify_items": null,
            "left": null,
            "margin": null,
            "max_height": null,
            "max_width": null,
            "min_height": null,
            "min_width": null,
            "object_fit": null,
            "object_position": null,
            "order": null,
            "overflow": null,
            "overflow_x": null,
            "overflow_y": null,
            "padding": null,
            "right": null,
            "top": null,
            "visibility": null,
            "width": null
          }
        },
        "1d066075d9be470b9952243ad8c22cbd": {
          "model_module": "@jupyter-widgets/controls",
          "model_name": "ProgressStyleModel",
          "model_module_version": "1.5.0",
          "state": {
            "_model_module": "@jupyter-widgets/controls",
            "_model_module_version": "1.5.0",
            "_model_name": "ProgressStyleModel",
            "_view_count": null,
            "_view_module": "@jupyter-widgets/base",
            "_view_module_version": "1.2.0",
            "_view_name": "StyleView",
            "bar_color": null,
            "description_width": ""
          }
        },
        "6e4731b075d547268dbfade6e3364005": {
          "model_module": "@jupyter-widgets/base",
          "model_name": "LayoutModel",
          "model_module_version": "1.2.0",
          "state": {
            "_model_module": "@jupyter-widgets/base",
            "_model_module_version": "1.2.0",
            "_model_name": "LayoutModel",
            "_view_count": null,
            "_view_module": "@jupyter-widgets/base",
            "_view_module_version": "1.2.0",
            "_view_name": "LayoutView",
            "align_content": null,
            "align_items": null,
            "align_self": null,
            "border": null,
            "bottom": null,
            "display": null,
            "flex": null,
            "flex_flow": null,
            "grid_area": null,
            "grid_auto_columns": null,
            "grid_auto_flow": null,
            "grid_auto_rows": null,
            "grid_column": null,
            "grid_gap": null,
            "grid_row": null,
            "grid_template_areas": null,
            "grid_template_columns": null,
            "grid_template_rows": null,
            "height": null,
            "justify_content": null,
            "justify_items": null,
            "left": null,
            "margin": null,
            "max_height": null,
            "max_width": null,
            "min_height": null,
            "min_width": null,
            "object_fit": null,
            "object_position": null,
            "order": null,
            "overflow": null,
            "overflow_x": null,
            "overflow_y": null,
            "padding": null,
            "right": null,
            "top": null,
            "visibility": null,
            "width": null
          }
        },
        "8882f30b1fa544fa90372aa773713e35": {
          "model_module": "@jupyter-widgets/controls",
          "model_name": "DescriptionStyleModel",
          "model_module_version": "1.5.0",
          "state": {
            "_model_module": "@jupyter-widgets/controls",
            "_model_module_version": "1.5.0",
            "_model_name": "DescriptionStyleModel",
            "_view_count": null,
            "_view_module": "@jupyter-widgets/base",
            "_view_module_version": "1.2.0",
            "_view_name": "StyleView",
            "description_width": ""
          }
        },
        "df3de2d139b042688c203f752cfc4bbc": {
          "model_module": "@jupyter-widgets/controls",
          "model_name": "HBoxModel",
          "model_module_version": "1.5.0",
          "state": {
            "_dom_classes": [],
            "_model_module": "@jupyter-widgets/controls",
            "_model_module_version": "1.5.0",
            "_model_name": "HBoxModel",
            "_view_count": null,
            "_view_module": "@jupyter-widgets/controls",
            "_view_module_version": "1.5.0",
            "_view_name": "HBoxView",
            "box_style": "",
            "children": [
              "IPY_MODEL_ee29c3b3a96d47338b31b7149a6be68e",
              "IPY_MODEL_a63fd6dcb8244013bf5410d2058c5a76",
              "IPY_MODEL_9a2ec15d992f4de5b8bb5f879e4c71a6"
            ],
            "layout": "IPY_MODEL_bf93e4db851d4d56aef45f9eba0faf74"
          }
        },
        "ee29c3b3a96d47338b31b7149a6be68e": {
          "model_module": "@jupyter-widgets/controls",
          "model_name": "HTMLModel",
          "model_module_version": "1.5.0",
          "state": {
            "_dom_classes": [],
            "_model_module": "@jupyter-widgets/controls",
            "_model_module_version": "1.5.0",
            "_model_name": "HTMLModel",
            "_view_count": null,
            "_view_module": "@jupyter-widgets/controls",
            "_view_module_version": "1.5.0",
            "_view_name": "HTMLView",
            "description": "",
            "description_tooltip": null,
            "layout": "IPY_MODEL_a2abd2f2d65e48e1bafc1ca9b80b8d7a",
            "placeholder": "​",
            "style": "IPY_MODEL_a3d2d5742674472c91e825527f939d88",
            "value": "100%"
          }
        },
        "a63fd6dcb8244013bf5410d2058c5a76": {
          "model_module": "@jupyter-widgets/controls",
          "model_name": "FloatProgressModel",
          "model_module_version": "1.5.0",
          "state": {
            "_dom_classes": [],
            "_model_module": "@jupyter-widgets/controls",
            "_model_module_version": "1.5.0",
            "_model_name": "FloatProgressModel",
            "_view_count": null,
            "_view_module": "@jupyter-widgets/controls",
            "_view_module_version": "1.5.0",
            "_view_name": "ProgressView",
            "bar_style": "success",
            "description": "",
            "description_tooltip": null,
            "layout": "IPY_MODEL_142f4916d5d34b1d88f654a2682d7038",
            "max": 1280,
            "min": 0,
            "orientation": "horizontal",
            "style": "IPY_MODEL_37e50b35d0304893a23dc355db2526df",
            "value": 1280
          }
        },
        "9a2ec15d992f4de5b8bb5f879e4c71a6": {
          "model_module": "@jupyter-widgets/controls",
          "model_name": "HTMLModel",
          "model_module_version": "1.5.0",
          "state": {
            "_dom_classes": [],
            "_model_module": "@jupyter-widgets/controls",
            "_model_module_version": "1.5.0",
            "_model_name": "HTMLModel",
            "_view_count": null,
            "_view_module": "@jupyter-widgets/controls",
            "_view_module_version": "1.5.0",
            "_view_name": "HTMLView",
            "description": "",
            "description_tooltip": null,
            "layout": "IPY_MODEL_f6959352fa4b41f1ab2c1c6f3fd675ab",
            "placeholder": "​",
            "style": "IPY_MODEL_aa476441b3234df6be5c8ef98df736ab",
            "value": " 1280/1280 [00:53&lt;00:00, 24.45it/s]"
          }
        },
        "bf93e4db851d4d56aef45f9eba0faf74": {
          "model_module": "@jupyter-widgets/base",
          "model_name": "LayoutModel",
          "model_module_version": "1.2.0",
          "state": {
            "_model_module": "@jupyter-widgets/base",
            "_model_module_version": "1.2.0",
            "_model_name": "LayoutModel",
            "_view_count": null,
            "_view_module": "@jupyter-widgets/base",
            "_view_module_version": "1.2.0",
            "_view_name": "LayoutView",
            "align_content": null,
            "align_items": null,
            "align_self": null,
            "border": null,
            "bottom": null,
            "display": null,
            "flex": null,
            "flex_flow": null,
            "grid_area": null,
            "grid_auto_columns": null,
            "grid_auto_flow": null,
            "grid_auto_rows": null,
            "grid_column": null,
            "grid_gap": null,
            "grid_row": null,
            "grid_template_areas": null,
            "grid_template_columns": null,
            "grid_template_rows": null,
            "height": null,
            "justify_content": null,
            "justify_items": null,
            "left": null,
            "margin": null,
            "max_height": null,
            "max_width": null,
            "min_height": null,
            "min_width": null,
            "object_fit": null,
            "object_position": null,
            "order": null,
            "overflow": null,
            "overflow_x": null,
            "overflow_y": null,
            "padding": null,
            "right": null,
            "top": null,
            "visibility": null,
            "width": null
          }
        },
        "a2abd2f2d65e48e1bafc1ca9b80b8d7a": {
          "model_module": "@jupyter-widgets/base",
          "model_name": "LayoutModel",
          "model_module_version": "1.2.0",
          "state": {
            "_model_module": "@jupyter-widgets/base",
            "_model_module_version": "1.2.0",
            "_model_name": "LayoutModel",
            "_view_count": null,
            "_view_module": "@jupyter-widgets/base",
            "_view_module_version": "1.2.0",
            "_view_name": "LayoutView",
            "align_content": null,
            "align_items": null,
            "align_self": null,
            "border": null,
            "bottom": null,
            "display": null,
            "flex": null,
            "flex_flow": null,
            "grid_area": null,
            "grid_auto_columns": null,
            "grid_auto_flow": null,
            "grid_auto_rows": null,
            "grid_column": null,
            "grid_gap": null,
            "grid_row": null,
            "grid_template_areas": null,
            "grid_template_columns": null,
            "grid_template_rows": null,
            "height": null,
            "justify_content": null,
            "justify_items": null,
            "left": null,
            "margin": null,
            "max_height": null,
            "max_width": null,
            "min_height": null,
            "min_width": null,
            "object_fit": null,
            "object_position": null,
            "order": null,
            "overflow": null,
            "overflow_x": null,
            "overflow_y": null,
            "padding": null,
            "right": null,
            "top": null,
            "visibility": null,
            "width": null
          }
        },
        "a3d2d5742674472c91e825527f939d88": {
          "model_module": "@jupyter-widgets/controls",
          "model_name": "DescriptionStyleModel",
          "model_module_version": "1.5.0",
          "state": {
            "_model_module": "@jupyter-widgets/controls",
            "_model_module_version": "1.5.0",
            "_model_name": "DescriptionStyleModel",
            "_view_count": null,
            "_view_module": "@jupyter-widgets/base",
            "_view_module_version": "1.2.0",
            "_view_name": "StyleView",
            "description_width": ""
          }
        },
        "142f4916d5d34b1d88f654a2682d7038": {
          "model_module": "@jupyter-widgets/base",
          "model_name": "LayoutModel",
          "model_module_version": "1.2.0",
          "state": {
            "_model_module": "@jupyter-widgets/base",
            "_model_module_version": "1.2.0",
            "_model_name": "LayoutModel",
            "_view_count": null,
            "_view_module": "@jupyter-widgets/base",
            "_view_module_version": "1.2.0",
            "_view_name": "LayoutView",
            "align_content": null,
            "align_items": null,
            "align_self": null,
            "border": null,
            "bottom": null,
            "display": null,
            "flex": null,
            "flex_flow": null,
            "grid_area": null,
            "grid_auto_columns": null,
            "grid_auto_flow": null,
            "grid_auto_rows": null,
            "grid_column": null,
            "grid_gap": null,
            "grid_row": null,
            "grid_template_areas": null,
            "grid_template_columns": null,
            "grid_template_rows": null,
            "height": null,
            "justify_content": null,
            "justify_items": null,
            "left": null,
            "margin": null,
            "max_height": null,
            "max_width": null,
            "min_height": null,
            "min_width": null,
            "object_fit": null,
            "object_position": null,
            "order": null,
            "overflow": null,
            "overflow_x": null,
            "overflow_y": null,
            "padding": null,
            "right": null,
            "top": null,
            "visibility": null,
            "width": null
          }
        },
        "37e50b35d0304893a23dc355db2526df": {
          "model_module": "@jupyter-widgets/controls",
          "model_name": "ProgressStyleModel",
          "model_module_version": "1.5.0",
          "state": {
            "_model_module": "@jupyter-widgets/controls",
            "_model_module_version": "1.5.0",
            "_model_name": "ProgressStyleModel",
            "_view_count": null,
            "_view_module": "@jupyter-widgets/base",
            "_view_module_version": "1.2.0",
            "_view_name": "StyleView",
            "bar_color": null,
            "description_width": ""
          }
        },
        "f6959352fa4b41f1ab2c1c6f3fd675ab": {
          "model_module": "@jupyter-widgets/base",
          "model_name": "LayoutModel",
          "model_module_version": "1.2.0",
          "state": {
            "_model_module": "@jupyter-widgets/base",
            "_model_module_version": "1.2.0",
            "_model_name": "LayoutModel",
            "_view_count": null,
            "_view_module": "@jupyter-widgets/base",
            "_view_module_version": "1.2.0",
            "_view_name": "LayoutView",
            "align_content": null,
            "align_items": null,
            "align_self": null,
            "border": null,
            "bottom": null,
            "display": null,
            "flex": null,
            "flex_flow": null,
            "grid_area": null,
            "grid_auto_columns": null,
            "grid_auto_flow": null,
            "grid_auto_rows": null,
            "grid_column": null,
            "grid_gap": null,
            "grid_row": null,
            "grid_template_areas": null,
            "grid_template_columns": null,
            "grid_template_rows": null,
            "height": null,
            "justify_content": null,
            "justify_items": null,
            "left": null,
            "margin": null,
            "max_height": null,
            "max_width": null,
            "min_height": null,
            "min_width": null,
            "object_fit": null,
            "object_position": null,
            "order": null,
            "overflow": null,
            "overflow_x": null,
            "overflow_y": null,
            "padding": null,
            "right": null,
            "top": null,
            "visibility": null,
            "width": null
          }
        },
        "aa476441b3234df6be5c8ef98df736ab": {
          "model_module": "@jupyter-widgets/controls",
          "model_name": "DescriptionStyleModel",
          "model_module_version": "1.5.0",
          "state": {
            "_model_module": "@jupyter-widgets/controls",
            "_model_module_version": "1.5.0",
            "_model_name": "DescriptionStyleModel",
            "_view_count": null,
            "_view_module": "@jupyter-widgets/base",
            "_view_module_version": "1.2.0",
            "_view_name": "StyleView",
            "description_width": ""
          }
        }
      }
    }
  },
  "cells": [
    {
      "cell_type": "markdown",
      "metadata": {
        "id": "view-in-github",
        "colab_type": "text"
      },
      "source": [
        "<a href=\"https://colab.research.google.com/github/manasarthak/Emotion-classification-using-physiological-signal/blob/main/Feature_Extraction.ipynb\" target=\"_parent\"><img src=\"https://colab.research.google.com/assets/colab-badge.svg\" alt=\"Open In Colab\"/></a>"
      ]
    },
    {
      "cell_type": "code",
      "execution_count": 1,
      "metadata": {
        "id": "dxH4U11iS7ak"
      },
      "outputs": [],
      "source": [
        "from IPython.utils import io\n",
        "import numpy as np\n",
        "import collections\n",
        "\n",
        "from sklearn.preprocessing import StandardScaler,MinMaxScaler\n",
        "from sklearn.utils import shuffle\n",
        "\n",
        "import scipy.io\n",
        "from scipy import signal,integrate\n",
        "from scipy import stats\n",
        "from scipy.stats import skew,kurtosis,entropy,iqr\n",
        "import matplotlib.pyplot as plt\n",
        "import math\n",
        "import antropy as ap"
      ]
    },
    {
      "cell_type": "code",
      "source": [
        "def load_data(dim):\n",
        "    if dim=='valence':\n",
        "        labels_all=np.load('/content/drive/MyDrive/DEAP/valence/' + 'all_valence_labels.npy',allow_pickle=True)\n",
        "        data_all=np.load('/content/drive/MyDrive/DEAP/valence/' + 'all_valence_data.npy',allow_pickle=True)\n",
        "        print(\"Valence :\",labels_all.shape,data_all.shape)\n",
        "    elif dim=='arousal':\n",
        "        labels_all=np.load('/content/drive/MyDrive/DEAP/arousal/'+'all_arousal_labels.npy',allow_pickle=True)\n",
        "        data_all=np.load('/content/drive/MyDrive/DEAP/arousal/'+'all_arousal_data.npy',allow_pickle=True)\n",
        "        print(\"Arousal: \",labels_all.shape,data_all.shape)\n",
        "    return labels_all,data_all"
      ],
      "metadata": {
        "id": "NBE6B4yvTQg-"
      },
      "execution_count": 2,
      "outputs": []
    },
    {
      "cell_type": "code",
      "source": [
        "labels_all_val,data_all_val=load_data(dim='valence')"
      ],
      "metadata": {
        "colab": {
          "base_uri": "https://localhost:8080/"
        },
        "id": "9VERP1k9VRDe",
        "outputId": "6af91c37-67c4-4ea0-d250-d79884d1fb02"
      },
      "execution_count": 3,
      "outputs": [
        {
          "output_type": "stream",
          "name": "stdout",
          "text": [
            "Valence : (1280,) (1280, 32, 6400)\n"
          ]
        }
      ]
    },
    {
      "cell_type": "code",
      "source": [
        "labels_all_ar,data_all_ar=load_data(dim='arousal')"
      ],
      "metadata": {
        "colab": {
          "base_uri": "https://localhost:8080/"
        },
        "id": "_wUaz-D9WKfn",
        "outputId": "c50a1694-0315-49ee-82dd-8c35b9cb7f60"
      },
      "execution_count": 4,
      "outputs": [
        {
          "output_type": "stream",
          "name": "stdout",
          "text": [
            "Arousal:  (1280,) (1280, 32, 6400)\n"
          ]
        }
      ]
    },
    {
      "cell_type": "markdown",
      "source": [
        "Statistical/Time Domain Features(Linear and Complex)"
      ],
      "metadata": {
        "id": "qwfyQ7eiYA4T"
      }
    },
    {
      "cell_type": "code",
      "source": [
        "def mean(x):\n",
        "  return (np.mean(x,axis=-1));\n",
        "\n",
        "def std(data):\n",
        "    return np.std(data,axis=-1)#standard deviation\n",
        "\n",
        "def ptp(data):\n",
        "    return np.ptp(data,axis=-1)#range\n",
        "\n",
        "def minim(data):\n",
        "      return np.min(data,axis=-1)\n",
        "\n",
        "def maxim(data):\n",
        "      return np.max(data,axis=-1)\n",
        "\n",
        "def argminim(data):\n",
        "      return np.argmin(data,axis=-1)#indices of the minimum value(related to time)\n",
        "\n",
        "def argmaxim(data):\n",
        "      return np.argmax(data,axis=-1)\n",
        "\n",
        "def mean_square(data):\n",
        "      return np.mean(data**2,axis=-1)\n",
        "\n",
        "def rms(data): \n",
        "      return  np.sqrt(np.mean(data**2,axis=-1)) #root mean square \n",
        "\n",
        "def abs_diffs_signal(data):\n",
        "    return np.sum(np.abs(np.diff(data,axis=-1)),axis=-1)\n",
        "\n",
        "def skewness(data):\n",
        "    return skew(data,axis=-1)#measure of assysmetry of a distribution\n",
        "\n",
        "def kkurtosis(data):\n",
        "    return stats.kurtosis(data,axis=-1)#measure of tailedness of a distribution\n",
        "\n",
        "def calc_entropy(data):\n",
        "  return np.apply_along_axis(entropy,-1,data);\n",
        "\n",
        "def calc_IQR(data):\n",
        "  return np.apply_along_axis(iqr,-1,data);\n",
        "\n",
        "def hjorth_activity(data):\n",
        "  return np.var(data,axis=-1);\n",
        "\n",
        "def hjorth_mobility(data):\n",
        "  return np.divide(np.std(np.diff(data, axis=-1)),np.std(data, axis=-1));\n",
        "\n",
        "def hjorth_complexity(data):\n",
        "  return np.divide(hjorth_mobility(np.diff(data, axis=-1)), hjorth_mobility(data));\n",
        "\n",
        "def petrosian_fractD(data):#Original code from the `pyrem <https://github.com/gilestrolab/pyrem>`_package by Quentin Geissmann.\n",
        "  N=data.shape[-1];\n",
        "  nzc_derivative=ap.num_zerocross(np.diff(data,axis=-1),axis=-1);#counting the number of zero cross in the first derivative of signal\n",
        "  pfd = np.log10(N) / (np.log10(N) + np.log10(N / (N + 0.4 * nzc_derivative)));\n",
        "  return pfd;\n",
        "\n",
        "def katz_fd(data):#Original code from the `mne-features <https://mne.tools/mne-features/>`_package by Jean-Baptiste Schiratti and Alexandre Gramfort.\n",
        "  dists = np.abs(np.diff(data, axis=-1))\n",
        "  ll = dists.sum(axis=-1)\n",
        "  ln = np.log10(ll / dists.mean(axis=-1))\n",
        "  aux_d = data - np.take(data, indices=[0], axis=-1)\n",
        "  d = np.max(np.abs(aux_d), axis=-1)\n",
        "  kfd = np.squeeze(ln / (ln + np.log10(d / ll)))\n",
        "  if not kfd.ndim:\n",
        "      kfd = kfd.item()\n",
        "  return kfd;"
      ],
      "metadata": {
        "id": "dGwyTU05YAg0"
      },
      "execution_count": 5,
      "outputs": []
    },
    {
      "cell_type": "markdown",
      "source": [
        "Frequency Domain Features"
      ],
      "metadata": {
        "id": "vsC_C5KjtmPQ"
      }
    },
    {
      "cell_type": "code",
      "source": [
        "def spectral_entropy(x, sf, method='welch', nperseg=None, normalize=False, axis=-1):\n",
        "  return ap.spectral_entropy(x,sf,method,nperseg,normalize,axis);"
      ],
      "metadata": {
        "id": "xNzwpSDttle1"
      },
      "execution_count": 6,
      "outputs": []
    },
    {
      "cell_type": "code",
      "source": [
        "def concatenate_features(data):\n",
        "    return np.concatenate((mean(data),std(data),ptp(data),minim(data),maxim(data),argminim(data),argmaxim(data),\n",
        "                          mean_square(data),rms(data),abs_diffs_signal(data),\n",
        "                          skewness(data),kkurtosis(data),calc_entropy(data),calc_IQR(data),hjorth_activity(data),hjorth_mobility(data)\n",
        "                          ,hjorth_complexity(data),petrosian_fractD(data),katz_fd(data),spectral_entropy(data,128)),axis=-1);"
      ],
      "metadata": {
        "id": "H-JuMQsPt5x9"
      },
      "execution_count": 7,
      "outputs": []
    },
    {
      "cell_type": "code",
      "source": [
        "from tqdm.notebook import tqdm\n",
        "features_val=[]\n",
        "for data in tqdm(data_all_val):\n",
        "    features_val.append(concatenate_features(data))\n",
        "features_val=np.array(features_val)"
      ],
      "metadata": {
        "colab": {
          "base_uri": "https://localhost:8080/",
          "height": 49,
          "referenced_widgets": [
            "798c1f8483b24f719940de4d401d7f4e",
            "740fbebf0ad4472193c492aea6a9e8f1",
            "d0602dac185146248a3867fae7b19153",
            "83e09f6994884f98bbf9f0fe5ef8019d",
            "f0970aa3d85041e88c1b966ca5893bb5",
            "6f01aaa16fc2405795f8f2c34dc03ce7",
            "8267b360a24245898f32c931e4c6f08b",
            "f87cc3b5190449a692e382bacb48d404",
            "1d066075d9be470b9952243ad8c22cbd",
            "6e4731b075d547268dbfade6e3364005",
            "8882f30b1fa544fa90372aa773713e35"
          ]
        },
        "id": "eaJnv6RNu5m6",
        "outputId": "977caba2-be60-488e-ae21-4b19b19e0a16"
      },
      "execution_count": 9,
      "outputs": [
        {
          "output_type": "display_data",
          "data": {
            "text/plain": [
              "  0%|          | 0/1280 [00:00<?, ?it/s]"
            ],
            "application/vnd.jupyter.widget-view+json": {
              "version_major": 2,
              "version_minor": 0,
              "model_id": "798c1f8483b24f719940de4d401d7f4e"
            }
          },
          "metadata": {}
        }
      ]
    },
    {
      "cell_type": "code",
      "source": [
        "features_val.shape"
      ],
      "metadata": {
        "colab": {
          "base_uri": "https://localhost:8080/"
        },
        "id": "lF6yT2xx5tCQ",
        "outputId": "15575351-6a3d-439c-b484-d2b396e690ee"
      },
      "execution_count": 10,
      "outputs": [
        {
          "output_type": "execute_result",
          "data": {
            "text/plain": [
              "(1280, 640)"
            ]
          },
          "metadata": {},
          "execution_count": 10
        }
      ]
    },
    {
      "cell_type": "code",
      "source": [
        "features_ar=[]\n",
        "for data in tqdm(data_all_ar):\n",
        "    features_ar.append(concatenate_features(data))\n",
        "features_ar=np.array(features_ar)"
      ],
      "metadata": {
        "colab": {
          "base_uri": "https://localhost:8080/",
          "height": 49,
          "referenced_widgets": [
            "df3de2d139b042688c203f752cfc4bbc",
            "ee29c3b3a96d47338b31b7149a6be68e",
            "a63fd6dcb8244013bf5410d2058c5a76",
            "9a2ec15d992f4de5b8bb5f879e4c71a6",
            "bf93e4db851d4d56aef45f9eba0faf74",
            "a2abd2f2d65e48e1bafc1ca9b80b8d7a",
            "a3d2d5742674472c91e825527f939d88",
            "142f4916d5d34b1d88f654a2682d7038",
            "37e50b35d0304893a23dc355db2526df",
            "f6959352fa4b41f1ab2c1c6f3fd675ab",
            "aa476441b3234df6be5c8ef98df736ab"
          ]
        },
        "id": "qD5TLaOG54qj",
        "outputId": "37cd689b-cef7-4501-a4c6-b2a2a3824780"
      },
      "execution_count": 11,
      "outputs": [
        {
          "output_type": "display_data",
          "data": {
            "text/plain": [
              "  0%|          | 0/1280 [00:00<?, ?it/s]"
            ],
            "application/vnd.jupyter.widget-view+json": {
              "version_major": 2,
              "version_minor": 0,
              "model_id": "df3de2d139b042688c203f752cfc4bbc"
            }
          },
          "metadata": {}
        }
      ]
    },
    {
      "cell_type": "code",
      "source": [
        "features_ar.shape"
      ],
      "metadata": {
        "colab": {
          "base_uri": "https://localhost:8080/"
        },
        "id": "Txec41vH5455",
        "outputId": "c2d7c9e9-1ffe-4ec2-c347-55b430b0846b"
      },
      "execution_count": 12,
      "outputs": [
        {
          "output_type": "execute_result",
          "data": {
            "text/plain": [
              "(1280, 640)"
            ]
          },
          "metadata": {},
          "execution_count": 12
        }
      ]
    },
    {
      "cell_type": "code",
      "source": [
        "np.save('/content/drive/MyDrive/DEAP/valence/' + 'features_val.npy', features_val)\n",
        "np.save('/content/drive/MyDrive/DEAP/arousal/' + 'features_ar.npy', features_ar)"
      ],
      "metadata": {
        "id": "a42SlulOsYA9"
      },
      "execution_count": 13,
      "outputs": []
    }
  ]
}