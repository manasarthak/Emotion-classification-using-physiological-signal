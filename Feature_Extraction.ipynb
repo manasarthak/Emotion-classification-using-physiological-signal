{
  "nbformat": 4,
  "nbformat_minor": 0,
  "metadata": {
    "colab": {
      "name": "Feature_Extraction.ipynb",
      "provenance": [],
      "collapsed_sections": [],
      "machine_shape": "hm",
      "mount_file_id": "1P70ivZpMcNPgccCtVp6WzsshrLn8-jph",
      "authorship_tag": "ABX9TyMVS4CRsx9ZnH+Ll3CkZ0nQ",
      "include_colab_link": true
    },
    "kernelspec": {
      "name": "python3",
      "display_name": "Python 3"
    },
    "language_info": {
      "name": "python"
    },
    "widgets": {
      "application/vnd.jupyter.widget-state+json": {
        "bfd9ad6d8c5f4b74b3b89bdf98e34d94": {
          "model_module": "@jupyter-widgets/controls",
          "model_name": "HBoxModel",
          "model_module_version": "1.5.0",
          "state": {
            "_dom_classes": [],
            "_model_module": "@jupyter-widgets/controls",
            "_model_module_version": "1.5.0",
            "_model_name": "HBoxModel",
            "_view_count": null,
            "_view_module": "@jupyter-widgets/controls",
            "_view_module_version": "1.5.0",
            "_view_name": "HBoxView",
            "box_style": "",
            "children": [
              "IPY_MODEL_7bfdbe6e7e8a416fa9036b654feadcbd",
              "IPY_MODEL_7964f8b0bd95462bb47307853d8d5db8",
              "IPY_MODEL_dd1d042754f145499b8cf70457dcdb7c"
            ],
            "layout": "IPY_MODEL_d65e09f7bb8e44f4963dca2b60e23a51"
          }
        },
        "7bfdbe6e7e8a416fa9036b654feadcbd": {
          "model_module": "@jupyter-widgets/controls",
          "model_name": "HTMLModel",
          "model_module_version": "1.5.0",
          "state": {
            "_dom_classes": [],
            "_model_module": "@jupyter-widgets/controls",
            "_model_module_version": "1.5.0",
            "_model_name": "HTMLModel",
            "_view_count": null,
            "_view_module": "@jupyter-widgets/controls",
            "_view_module_version": "1.5.0",
            "_view_name": "HTMLView",
            "description": "",
            "description_tooltip": null,
            "layout": "IPY_MODEL_7606743c64634dd5a3249e92a083eb4e",
            "placeholder": "​",
            "style": "IPY_MODEL_3c39c4a6dae74f5a8cc0ca92c827110f",
            "value": "100%"
          }
        },
        "7964f8b0bd95462bb47307853d8d5db8": {
          "model_module": "@jupyter-widgets/controls",
          "model_name": "FloatProgressModel",
          "model_module_version": "1.5.0",
          "state": {
            "_dom_classes": [],
            "_model_module": "@jupyter-widgets/controls",
            "_model_module_version": "1.5.0",
            "_model_name": "FloatProgressModel",
            "_view_count": null,
            "_view_module": "@jupyter-widgets/controls",
            "_view_module_version": "1.5.0",
            "_view_name": "ProgressView",
            "bar_style": "success",
            "description": "",
            "description_tooltip": null,
            "layout": "IPY_MODEL_9e30ed51401f4361a7d4ebed3c87ed65",
            "max": 1280,
            "min": 0,
            "orientation": "horizontal",
            "style": "IPY_MODEL_8e384f1fbdf649a3bc446b8266998d5c",
            "value": 1280
          }
        },
        "dd1d042754f145499b8cf70457dcdb7c": {
          "model_module": "@jupyter-widgets/controls",
          "model_name": "HTMLModel",
          "model_module_version": "1.5.0",
          "state": {
            "_dom_classes": [],
            "_model_module": "@jupyter-widgets/controls",
            "_model_module_version": "1.5.0",
            "_model_name": "HTMLModel",
            "_view_count": null,
            "_view_module": "@jupyter-widgets/controls",
            "_view_module_version": "1.5.0",
            "_view_name": "HTMLView",
            "description": "",
            "description_tooltip": null,
            "layout": "IPY_MODEL_96775b9ac8e140edbc71fe4f3bd070a1",
            "placeholder": "​",
            "style": "IPY_MODEL_61e6d0d10a0d4315b1b0e295a957d064",
            "value": " 1280/1280 [01:04&lt;00:00, 20.68it/s]"
          }
        },
        "d65e09f7bb8e44f4963dca2b60e23a51": {
          "model_module": "@jupyter-widgets/base",
          "model_name": "LayoutModel",
          "model_module_version": "1.2.0",
          "state": {
            "_model_module": "@jupyter-widgets/base",
            "_model_module_version": "1.2.0",
            "_model_name": "LayoutModel",
            "_view_count": null,
            "_view_module": "@jupyter-widgets/base",
            "_view_module_version": "1.2.0",
            "_view_name": "LayoutView",
            "align_content": null,
            "align_items": null,
            "align_self": null,
            "border": null,
            "bottom": null,
            "display": null,
            "flex": null,
            "flex_flow": null,
            "grid_area": null,
            "grid_auto_columns": null,
            "grid_auto_flow": null,
            "grid_auto_rows": null,
            "grid_column": null,
            "grid_gap": null,
            "grid_row": null,
            "grid_template_areas": null,
            "grid_template_columns": null,
            "grid_template_rows": null,
            "height": null,
            "justify_content": null,
            "justify_items": null,
            "left": null,
            "margin": null,
            "max_height": null,
            "max_width": null,
            "min_height": null,
            "min_width": null,
            "object_fit": null,
            "object_position": null,
            "order": null,
            "overflow": null,
            "overflow_x": null,
            "overflow_y": null,
            "padding": null,
            "right": null,
            "top": null,
            "visibility": null,
            "width": null
          }
        },
        "7606743c64634dd5a3249e92a083eb4e": {
          "model_module": "@jupyter-widgets/base",
          "model_name": "LayoutModel",
          "model_module_version": "1.2.0",
          "state": {
            "_model_module": "@jupyter-widgets/base",
            "_model_module_version": "1.2.0",
            "_model_name": "LayoutModel",
            "_view_count": null,
            "_view_module": "@jupyter-widgets/base",
            "_view_module_version": "1.2.0",
            "_view_name": "LayoutView",
            "align_content": null,
            "align_items": null,
            "align_self": null,
            "border": null,
            "bottom": null,
            "display": null,
            "flex": null,
            "flex_flow": null,
            "grid_area": null,
            "grid_auto_columns": null,
            "grid_auto_flow": null,
            "grid_auto_rows": null,
            "grid_column": null,
            "grid_gap": null,
            "grid_row": null,
            "grid_template_areas": null,
            "grid_template_columns": null,
            "grid_template_rows": null,
            "height": null,
            "justify_content": null,
            "justify_items": null,
            "left": null,
            "margin": null,
            "max_height": null,
            "max_width": null,
            "min_height": null,
            "min_width": null,
            "object_fit": null,
            "object_position": null,
            "order": null,
            "overflow": null,
            "overflow_x": null,
            "overflow_y": null,
            "padding": null,
            "right": null,
            "top": null,
            "visibility": null,
            "width": null
          }
        },
        "3c39c4a6dae74f5a8cc0ca92c827110f": {
          "model_module": "@jupyter-widgets/controls",
          "model_name": "DescriptionStyleModel",
          "model_module_version": "1.5.0",
          "state": {
            "_model_module": "@jupyter-widgets/controls",
            "_model_module_version": "1.5.0",
            "_model_name": "DescriptionStyleModel",
            "_view_count": null,
            "_view_module": "@jupyter-widgets/base",
            "_view_module_version": "1.2.0",
            "_view_name": "StyleView",
            "description_width": ""
          }
        },
        "9e30ed51401f4361a7d4ebed3c87ed65": {
          "model_module": "@jupyter-widgets/base",
          "model_name": "LayoutModel",
          "model_module_version": "1.2.0",
          "state": {
            "_model_module": "@jupyter-widgets/base",
            "_model_module_version": "1.2.0",
            "_model_name": "LayoutModel",
            "_view_count": null,
            "_view_module": "@jupyter-widgets/base",
            "_view_module_version": "1.2.0",
            "_view_name": "LayoutView",
            "align_content": null,
            "align_items": null,
            "align_self": null,
            "border": null,
            "bottom": null,
            "display": null,
            "flex": null,
            "flex_flow": null,
            "grid_area": null,
            "grid_auto_columns": null,
            "grid_auto_flow": null,
            "grid_auto_rows": null,
            "grid_column": null,
            "grid_gap": null,
            "grid_row": null,
            "grid_template_areas": null,
            "grid_template_columns": null,
            "grid_template_rows": null,
            "height": null,
            "justify_content": null,
            "justify_items": null,
            "left": null,
            "margin": null,
            "max_height": null,
            "max_width": null,
            "min_height": null,
            "min_width": null,
            "object_fit": null,
            "object_position": null,
            "order": null,
            "overflow": null,
            "overflow_x": null,
            "overflow_y": null,
            "padding": null,
            "right": null,
            "top": null,
            "visibility": null,
            "width": null
          }
        },
        "8e384f1fbdf649a3bc446b8266998d5c": {
          "model_module": "@jupyter-widgets/controls",
          "model_name": "ProgressStyleModel",
          "model_module_version": "1.5.0",
          "state": {
            "_model_module": "@jupyter-widgets/controls",
            "_model_module_version": "1.5.0",
            "_model_name": "ProgressStyleModel",
            "_view_count": null,
            "_view_module": "@jupyter-widgets/base",
            "_view_module_version": "1.2.0",
            "_view_name": "StyleView",
            "bar_color": null,
            "description_width": ""
          }
        },
        "96775b9ac8e140edbc71fe4f3bd070a1": {
          "model_module": "@jupyter-widgets/base",
          "model_name": "LayoutModel",
          "model_module_version": "1.2.0",
          "state": {
            "_model_module": "@jupyter-widgets/base",
            "_model_module_version": "1.2.0",
            "_model_name": "LayoutModel",
            "_view_count": null,
            "_view_module": "@jupyter-widgets/base",
            "_view_module_version": "1.2.0",
            "_view_name": "LayoutView",
            "align_content": null,
            "align_items": null,
            "align_self": null,
            "border": null,
            "bottom": null,
            "display": null,
            "flex": null,
            "flex_flow": null,
            "grid_area": null,
            "grid_auto_columns": null,
            "grid_auto_flow": null,
            "grid_auto_rows": null,
            "grid_column": null,
            "grid_gap": null,
            "grid_row": null,
            "grid_template_areas": null,
            "grid_template_columns": null,
            "grid_template_rows": null,
            "height": null,
            "justify_content": null,
            "justify_items": null,
            "left": null,
            "margin": null,
            "max_height": null,
            "max_width": null,
            "min_height": null,
            "min_width": null,
            "object_fit": null,
            "object_position": null,
            "order": null,
            "overflow": null,
            "overflow_x": null,
            "overflow_y": null,
            "padding": null,
            "right": null,
            "top": null,
            "visibility": null,
            "width": null
          }
        },
        "61e6d0d10a0d4315b1b0e295a957d064": {
          "model_module": "@jupyter-widgets/controls",
          "model_name": "DescriptionStyleModel",
          "model_module_version": "1.5.0",
          "state": {
            "_model_module": "@jupyter-widgets/controls",
            "_model_module_version": "1.5.0",
            "_model_name": "DescriptionStyleModel",
            "_view_count": null,
            "_view_module": "@jupyter-widgets/base",
            "_view_module_version": "1.2.0",
            "_view_name": "StyleView",
            "description_width": ""
          }
        }
      }
    },
    "gpuClass": "standard"
  },
  "cells": [
    {
      "cell_type": "markdown",
      "metadata": {
        "id": "view-in-github",
        "colab_type": "text"
      },
      "source": [
        "<a href=\"https://colab.research.google.com/github/manasarthak/Emotion-classification-using-physiological-signal/blob/main/Feature_Extraction.ipynb\" target=\"_parent\"><img src=\"https://colab.research.google.com/assets/colab-badge.svg\" alt=\"Open In Colab\"/></a>"
      ]
    },
    {
      "cell_type": "code",
      "source": [
        "pip install antropy"
      ],
      "metadata": {
        "colab": {
          "base_uri": "https://localhost:8080/"
        },
        "id": "zly0GvVSYF8U",
        "outputId": "f5c8fef9-5896-456b-c052-0587c75e1ac2"
      },
      "execution_count": 1,
      "outputs": [
        {
          "output_type": "stream",
          "name": "stdout",
          "text": [
            "Looking in indexes: https://pypi.org/simple, https://us-python.pkg.dev/colab-wheels/public/simple/\n",
            "Requirement already satisfied: antropy in /usr/local/lib/python3.7/dist-packages (0.1.4)\n",
            "Requirement already satisfied: stochastic in /usr/local/lib/python3.7/dist-packages (from antropy) (0.6.0)\n",
            "Requirement already satisfied: numpy<2.0,>=1.17 in /usr/local/lib/python3.7/dist-packages (from stochastic->antropy) (1.21.6)\n",
            "Requirement already satisfied: scipy<2.0,>=1.3 in /usr/local/lib/python3.7/dist-packages (from stochastic->antropy) (1.7.3)\n"
          ]
        }
      ]
    },
    {
      "cell_type": "code",
      "execution_count": 2,
      "metadata": {
        "id": "dxH4U11iS7ak"
      },
      "outputs": [],
      "source": [
        "from IPython.utils import io\n",
        "import numpy as np\n",
        "import collections\n",
        "\n",
        "from sklearn.preprocessing import StandardScaler,MinMaxScaler,PolynomialFeatures\n",
        "from sklearn.utils import shuffle\n",
        "from sklearn import datasets\n",
        "\n",
        "import scipy.io\n",
        "from scipy import signal,integrate\n",
        "from scipy import stats\n",
        "from scipy.stats import skew,kurtosis,entropy,iqr\n",
        "from scipy.signal import welch\n",
        "from scipy.integrate import simps\n",
        "\n",
        "from pandas.plotting import scatter_matrix\n",
        "import pandas as pd\n",
        "from pandas import DataFrame\n",
        "\n",
        "import matplotlib.pyplot as plt\n",
        "import math\n",
        "import antropy as ap\n",
        "\n",
        "import copy"
      ]
    },
    {
      "cell_type": "code",
      "source": [
        "def load_data(dim):\n",
        "    if dim=='valence':\n",
        "        labels_all=np.load('/content/drive/MyDrive/DEAP/valence/' + 'all_valence_labels.npy',allow_pickle=True)\n",
        "        data_all=np.load('/content/drive/MyDrive/DEAP/valence/' + 'all_valence_data.npy',allow_pickle=True)\n",
        "        print(\"Valence :\",labels_all.shape,data_all.shape)\n",
        "    elif dim=='arousal':\n",
        "        labels_all=np.load('/content/drive/MyDrive/DEAP/arousal/'+'all_arousal_labels.npy',allow_pickle=True)\n",
        "        data_all=np.load('/content/drive/MyDrive/DEAP/arousal/'+'all_arousal_data.npy',allow_pickle=True)\n",
        "        print(\"Arousal: \",labels_all.shape,data_all.shape)\n",
        "    return labels_all,data_all"
      ],
      "metadata": {
        "id": "NBE6B4yvTQg-"
      },
      "execution_count": 3,
      "outputs": []
    },
    {
      "cell_type": "code",
      "source": [
        "labels_all_val,data_all_val=load_data(dim='valence')"
      ],
      "metadata": {
        "colab": {
          "base_uri": "https://localhost:8080/"
        },
        "id": "9VERP1k9VRDe",
        "outputId": "40c57f15-cf48-4c3a-d202-85aa502cbbc2"
      },
      "execution_count": 4,
      "outputs": [
        {
          "output_type": "stream",
          "name": "stdout",
          "text": [
            "Valence : (1280,) (1280, 32, 6400)\n"
          ]
        }
      ]
    },
    {
      "cell_type": "code",
      "source": [
        "labels_all_ar,data_all_ar=load_data(dim='arousal')"
      ],
      "metadata": {
        "colab": {
          "base_uri": "https://localhost:8080/"
        },
        "id": "_wUaz-D9WKfn",
        "outputId": "b92997c0-b3b8-4c6c-f144-cf3e5c3945b6"
      },
      "execution_count": 5,
      "outputs": [
        {
          "output_type": "stream",
          "name": "stdout",
          "text": [
            "Arousal:  (1280,) (1280, 32, 6400)\n"
          ]
        }
      ]
    },
    {
      "cell_type": "code",
      "source": [
        "datax=data_all_val #for convenience as data for valence and arousal is same "
      ],
      "metadata": {
        "id": "zSgw9f7srxpn"
      },
      "execution_count": 6,
      "outputs": []
    },
    {
      "cell_type": "code",
      "source": [
        "datax"
      ],
      "metadata": {
        "colab": {
          "base_uri": "https://localhost:8080/"
        },
        "id": "bv7KYsN38ZGb",
        "outputId": "ac80c1f4-f651-4dca-d921-edfbc90ca7a5"
      },
      "execution_count": 7,
      "outputs": [
        {
          "output_type": "execute_result",
          "data": {
            "text/plain": [
              "array([[[-4.83214893e-01, -1.74137370e+00, -2.28734619e+00, ...,\n",
              "          8.61262096e-01,  2.37428590e-01, -1.01922760e-01],\n",
              "        [-1.94500659e-01, -9.62530098e-01, -1.49152694e+00, ...,\n",
              "          6.66734248e-01,  4.64355433e-01,  3.05838501e-04],\n",
              "        [-1.72581175e-01, -1.21764826e+00, -1.20665943e+00, ...,\n",
              "          3.69157876e-01,  9.92985443e-02, -2.66627271e-01],\n",
              "        ...,\n",
              "        [-2.05258526e+00, -1.67593365e+00, -1.38214124e+00, ...,\n",
              "          1.20531957e+00,  4.14356542e-01,  4.67189581e-01],\n",
              "        [-4.49033212e-01,  1.05922304e+00,  2.26109791e+00, ...,\n",
              "          8.78822753e-01,  8.78406757e-02,  3.12358701e-01],\n",
              "        [-6.28899143e-01,  8.01583086e-01,  1.85301729e+00, ...,\n",
              "          4.70403218e-01, -2.19645862e-01,  1.65929051e-01]],\n",
              "\n",
              "       [[ 5.67487705e-01,  1.81006280e-01, -2.80903829e-01, ...,\n",
              "          1.68276740e-01,  1.61362446e-01, -6.00499905e-02],\n",
              "        [ 7.88620041e-01,  2.99460907e-01, -5.20917166e-01, ...,\n",
              "         -4.20272158e-01, -2.69602752e-01,  1.47924253e-01],\n",
              "        [ 7.12584448e-01,  1.17250045e+00,  2.45913009e-01, ...,\n",
              "          1.43619099e-01, -1.01478548e+00, -7.90119102e-01],\n",
              "        ...,\n",
              "        [ 5.64288036e-01,  4.47004338e-01, -6.24986373e-01, ...,\n",
              "          5.69888446e-01,  6.72374373e-01,  2.24641217e-01],\n",
              "        [-1.06405698e-01, -5.91782811e-01, -6.50675867e-01, ...,\n",
              "          5.84347497e-01,  6.14939506e-01,  3.25364141e-01],\n",
              "        [ 1.24068831e+00,  5.11764622e-01, -7.46579348e-01, ...,\n",
              "          7.68912208e-01,  7.17783782e-01, -2.38807518e-02]],\n",
              "\n",
              "       [[ 1.49756620e+00,  1.50710768e+00,  7.18363857e-01, ...,\n",
              "          1.34615713e+00,  1.02892778e+00, -4.19470612e-02],\n",
              "        [ 5.76787373e-01,  9.37701707e-01,  6.46415365e-01, ...,\n",
              "          1.69944632e+00,  9.97246989e-01,  1.06811979e-01],\n",
              "        [ 2.31644200e-01,  3.58041892e-01,  4.75759412e-01, ...,\n",
              "          1.56913495e+00,  4.94115473e-01, -6.16642418e-01],\n",
              "        ...,\n",
              "        [ 1.45138428e-01, -2.99656368e-01, -3.11630466e-01, ...,\n",
              "         -1.08419426e+00, -9.78315318e-02,  1.15176575e+00],\n",
              "        [-6.75553505e-01, -6.98770077e-01, -5.22691943e-01, ...,\n",
              "         -3.02633579e+00, -1.30128731e+00,  5.85198558e-01],\n",
              "        [-6.30910324e-01, -3.72087862e-01, -4.35414933e-01, ...,\n",
              "         -2.70445946e+00, -1.56574017e+00,  7.04328998e-02]],\n",
              "\n",
              "       ...,\n",
              "\n",
              "       [[ 1.08232883e-01, -2.06304770e-02,  9.44850852e-02, ...,\n",
              "         -1.27190966e-01,  7.43486746e-02,  4.14628430e-02],\n",
              "        [ 1.45219016e+00,  1.00785516e+00,  9.93341089e-01, ...,\n",
              "         -1.21364950e-01,  3.32783852e-01,  8.47408779e-02],\n",
              "        [ 1.41871148e-01, -1.16482931e-01, -2.35226136e-01, ...,\n",
              "          1.09367582e-01,  8.90051944e-02, -3.51896938e-02],\n",
              "        ...,\n",
              "        [ 9.70287900e-01,  7.96482007e-01,  6.59641238e-01, ...,\n",
              "         -1.41918292e-01,  3.19935463e-02,  2.30886019e-02],\n",
              "        [-2.58715280e+00, -2.89386293e+00, -2.77234860e+00, ...,\n",
              "          2.37358978e-01, -3.23353138e-01, -9.15307553e-02],\n",
              "        [-5.41420396e-01, -5.52830462e-01, -4.68748612e-01, ...,\n",
              "          8.63605518e-02, -3.67842545e-02,  1.81637902e-01]],\n",
              "\n",
              "       [[-3.68718629e-01, -3.50849735e-01,  1.38064922e-01, ...,\n",
              "          2.90039058e-01,  1.15327905e-02, -1.14167520e-01],\n",
              "        [-8.54593388e-01, -7.13180475e-01, -3.31360022e-01, ...,\n",
              "          4.97281701e-01, -5.42390872e-01, -3.98425832e-01],\n",
              "        [-4.10994923e-01, -2.66875931e-01, -1.41640010e-01, ...,\n",
              "          1.22048768e-01, -1.38491730e-01, -9.39866299e-02],\n",
              "        ...,\n",
              "        [ 1.58371711e-02, -2.73027420e-01,  3.27977094e-02, ...,\n",
              "          4.00826892e-01, -2.84057076e-01, -1.73850844e-01],\n",
              "        [ 8.78703893e-01,  9.31028168e-01,  1.55833024e-01, ...,\n",
              "         -1.97558632e+00,  2.60680471e-01, -3.40253927e-01],\n",
              "        [ 4.00094594e-01,  2.49472590e-01,  1.30039424e-01, ...,\n",
              "         -5.79469631e-01,  7.81811127e-03, -1.43592738e-01]],\n",
              "\n",
              "       [[-3.98019505e-02,  9.07135742e-02,  3.01211862e-01, ...,\n",
              "         -3.15930906e-01, -2.96782492e-01, -1.17230936e-01],\n",
              "        [-1.35697773e-01,  3.91253061e-01,  1.16337933e-01, ...,\n",
              "         -7.62154466e-01, -4.72137780e-01,  7.35551938e-03],\n",
              "        [ 5.44526023e-02,  1.50047283e-01,  2.31821641e-01, ...,\n",
              "         -2.64977702e-01, -4.33398592e-01, -3.23591549e-01],\n",
              "        ...,\n",
              "        [-2.74983798e-01, -1.42575271e-01, -2.94102288e-01, ...,\n",
              "         -2.12402270e-01,  1.93568407e-01,  4.37420933e-01],\n",
              "        [ 7.02993184e-01,  2.24037213e-01,  9.43392856e-01, ...,\n",
              "          1.66806684e+00,  7.74621409e-01, -7.62805872e-02],\n",
              "        [ 4.70381442e-01,  1.26254371e-01,  1.74756301e-01, ...,\n",
              "          6.49971364e-01,  4.98386869e-01,  1.72740680e-01]]])"
            ]
          },
          "metadata": {},
          "execution_count": 7
        }
      ]
    },
    {
      "cell_type": "markdown",
      "source": [
        "Statistical/Time Domain Features(Linear and Complex)"
      ],
      "metadata": {
        "id": "qwfyQ7eiYA4T"
      }
    },
    {
      "cell_type": "code",
      "source": [
        "def mean(x):\n",
        "  return (np.mean(x,axis=-1));\n",
        "\n",
        "def std(data):\n",
        "    return np.std(data,axis=-1)#standard deviation\n",
        "\n",
        "def ptp(data):\n",
        "    return np.ptp(data,axis=-1)#range\n",
        "\n",
        "def minim(data):\n",
        "      return np.min(data,axis=-1)\n",
        "\n",
        "def maxim(data):\n",
        "      return np.max(data,axis=-1)\n",
        "\n",
        "def argminim(data):\n",
        "      return np.argmin(data,axis=-1)#indices of the minimum value(related to time)\n",
        "\n",
        "def argmaxim(data):\n",
        "      return np.argmax(data,axis=-1)\n",
        "\n",
        "def mean_square(data):\n",
        "      return np.mean(data**2,axis=-1)\n",
        "\n",
        "def rms(data): \n",
        "      return  np.sqrt(np.mean(data**2,axis=-1)) #root mean square \n",
        "\n",
        "def abs_diffs_signal(data):\n",
        "    return np.sum(np.abs(np.diff(data,axis=-1)),axis=-1)\n",
        "\n",
        "def skewness(data):\n",
        "    return skew(data,axis=-1)#measure of assysmetry of a distribution\n",
        "\n",
        "def kkurtosis(data):\n",
        "    return stats.kurtosis(data,axis=-1)#measure of tailedness of a distribution\n",
        "\n",
        "def calc_entropy(data):\n",
        "  return np.apply_along_axis(entropy,-1,data);\n",
        "\n",
        "def calc_IQR(data):\n",
        "  return np.apply_along_axis(iqr,-1,data);\n",
        "\n",
        "def hjorth_activity(data):\n",
        "  return np.var(data,axis=-1);\n",
        "\n",
        "def hjorth_mobility(data):\n",
        "  return np.divide(np.std(np.diff(data, axis=-1)),np.std(data, axis=-1));\n",
        "\n",
        "def hjorth_complexity(data):\n",
        "  return np.divide(hjorth_mobility(np.diff(data, axis=-1)), hjorth_mobility(data));\n",
        "\n",
        "def petrosian_fractD(data):#Original code from the `pyrem <https://github.com/gilestrolab/pyrem>`_package by Quentin Geissmann.\n",
        "  N=data.shape[-1];\n",
        "  nzc_derivative=ap.num_zerocross(np.diff(data,axis=-1),axis=-1);#counting the number of zero cross in the first derivative of signal\n",
        "  pfd = np.log10(N) / (np.log10(N) + np.log10(N / (N + 0.4 * nzc_derivative)));\n",
        "  return pfd;\n",
        "\n",
        "def katz_fd(data):#Original code from the `mne-features <https://mne.tools/mne-features/>`_package by Jean-Baptiste Schiratti and Alexandre Gramfort.\n",
        "  dists = np.abs(np.diff(data, axis=-1))\n",
        "  ll = dists.sum(axis=-1)\n",
        "  ln = np.log10(ll / dists.mean(axis=-1))\n",
        "  aux_d = data - np.take(data, indices=[0], axis=-1)\n",
        "  d = np.max(np.abs(aux_d), axis=-1)\n",
        "  kfd = np.squeeze(ln / (ln + np.log10(d / ll)))\n",
        "  if not kfd.ndim:\n",
        "      kfd = kfd.item()\n",
        "  return kfd;"
      ],
      "metadata": {
        "id": "dGwyTU05YAg0"
      },
      "execution_count": 8,
      "outputs": []
    },
    {
      "cell_type": "markdown",
      "source": [
        "Frequency Domain Features"
      ],
      "metadata": {
        "id": "vsC_C5KjtmPQ"
      }
    },
    {
      "cell_type": "code",
      "source": [
        "def spectral_entropy(x, sf, method='welch', nperseg=None, normalize=False, axis=-1):\n",
        "  return ap.spectral_entropy(x,sf,method,nperseg,normalize,axis);"
      ],
      "metadata": {
        "id": "xNzwpSDttle1"
      },
      "execution_count": 9,
      "outputs": []
    },
    {
      "cell_type": "markdown",
      "source": [
        "Average Band Power"
      ],
      "metadata": {
        "id": "bmvNCUZpE8DV"
      }
    },
    {
      "cell_type": "code",
      "source": [
        "def bandpower(data,sf,band,window_sec=None,relative=False):#original code from https://raphaelvallat.com/bandpower.html\n",
        "     band=np.asarray(band);\n",
        "     low,high=band;\n",
        "     if window_sec is not None:\n",
        "       nperseg=window_sec*sf;\n",
        "     else:\n",
        "       nperseg=(2/low)*sf;\n",
        "     freqs,psd=welch(data,sf,nperseg=nperseg)\n",
        "     freqs_res=freqs[1]-freqs[0];\n",
        "     idx_band=np.logical_and(freqs>=low,freqs<=high)\n",
        "     bp=simps(psd[idx_band],dx=freqs_res)\n",
        "\n",
        "     if relative:\n",
        "       bp/=simps(psd,dx=freqs_res)\n",
        "     return bp;"
      ],
      "metadata": {
        "id": "Ec5eYPCzEwDV"
      },
      "execution_count": 10,
      "outputs": []
    },
    {
      "cell_type": "code",
      "source": [
        "def calc_bandpower(data,band):\n",
        "  data1=copy.deepcopy(data)\n",
        "  for i in range(data1.shape[0]):\n",
        "    for j in range(data1.shape[1]):\n",
        "      bp=bandpower(data1[i][j],128,band);\n",
        "      data1[i][j][0]=bp;\n",
        "  data1=data1[:,:,0];\n",
        "  print(data1);\n",
        "  return data1;"
      ],
      "metadata": {
        "id": "Dt9JCUOJWBai"
      },
      "execution_count": 11,
      "outputs": []
    },
    {
      "cell_type": "markdown",
      "source": [
        "Delta Band Power(Fmin=0.5,Fmax=4). Typically related to deep sleep (dreamless)"
      ],
      "metadata": {
        "id": "dvJLElQABw7y"
      }
    },
    {
      "cell_type": "code",
      "source": [
        "delta_bp=calc_bandpower(datax,(0.5,4));"
      ],
      "metadata": {
        "colab": {
          "base_uri": "https://localhost:8080/"
        },
        "id": "Q-O8KMnABbgo",
        "outputId": "997089fb-47b7-4141-d0d5-373014568e83"
      },
      "execution_count": 12,
      "outputs": [
        {
          "output_type": "stream",
          "name": "stdout",
          "text": [
            "[[0.00205205 0.00453002 0.00492838 ... 0.00341536 0.00624304 0.0044921 ]\n",
            " [0.00501522 0.00814587 0.00903545 ... 0.00161523 0.01335285 0.00572907]\n",
            " [0.00220756 0.00317756 0.00496043 ... 0.00138275 0.00432159 0.00252977]\n",
            " ...\n",
            " [0.00030836 0.02012138 0.00027472 ... 0.00760051 0.08305198 0.00440099]\n",
            " [0.00031684 0.01673892 0.00068028 ... 0.00690888 0.06310327 0.0030533 ]\n",
            " [0.00016986 0.01401136 0.00047914 ... 0.00673279 0.07752086 0.00402427]]\n"
          ]
        }
      ]
    },
    {
      "cell_type": "markdown",
      "source": [
        "Theta Band Power(Fmin=4 and Fmax=8). Related to subconcious activity."
      ],
      "metadata": {
        "id": "rkLxZqu4ZVaB"
      }
    },
    {
      "cell_type": "code",
      "source": [
        "theta_bp=calc_bandpower(datax,(4,8));"
      ],
      "metadata": {
        "id": "yiJKzDuTnn1i",
        "colab": {
          "base_uri": "https://localhost:8080/"
        },
        "outputId": "55608f69-c803-4958-e833-5d6102306288"
      },
      "execution_count": 13,
      "outputs": [
        {
          "output_type": "stream",
          "name": "stdout",
          "text": [
            "[[0.2597402  0.32962222 0.37476629 ... 0.1872867  0.44242346 0.36051146]\n",
            " [0.28324378 0.37942818 0.40696158 ... 0.17235792 0.54329531 0.42663495]\n",
            " [0.23550126 0.30228186 0.35253358 ... 0.16377201 0.4380097  0.34026869]\n",
            " ...\n",
            " [0.01037554 0.42586705 0.01564588 ... 0.19024814 1.81292716 0.0978196 ]\n",
            " [0.01868355 0.35715047 0.02912563 ... 0.14810923 1.56586911 0.08664536]\n",
            " [0.01098146 0.45560795 0.0176916  ... 0.18125766 1.74399071 0.09839971]]\n"
          ]
        }
      ]
    },
    {
      "cell_type": "markdown",
      "source": [
        "Alpha Band Power(Fmin=8 and Fmax=12). Related to a relaxed but concious state"
      ],
      "metadata": {
        "id": "MLrmymooZone"
      }
    },
    {
      "cell_type": "code",
      "source": [
        "alpha_bp=calc_bandpower(datax,(8,12));"
      ],
      "metadata": {
        "colab": {
          "base_uri": "https://localhost:8080/"
        },
        "id": "BD2P6q_MAbGp",
        "outputId": "0a511e04-c990-4b33-f626-766b957dc761"
      },
      "execution_count": 14,
      "outputs": [
        {
          "output_type": "stream",
          "name": "stdout",
          "text": [
            "[[0.2101994  0.24968357 0.2855789  ... 0.21429683 0.39229899 0.3382431 ]\n",
            " [0.20902878 0.24535741 0.26590626 ... 0.1939311  0.40411598 0.36578028]\n",
            " [0.22264904 0.2535818  0.27313083 ... 0.20901967 0.44151411 0.40828417]\n",
            " ...\n",
            " [0.00740259 0.1211798  0.00975636 ... 0.05791736 0.46942722 0.03199758]\n",
            " [0.0146004  0.12088863 0.01711164 ... 0.05332798 0.45961855 0.03482549]\n",
            " [0.00811242 0.14155455 0.01082338 ... 0.05982118 0.51555337 0.03443845]]\n"
          ]
        }
      ]
    },
    {
      "cell_type": "markdown",
      "source": [
        "Beta Band Power(Fmin=12,Fmax=30).Typically means an active and highly concentrated state"
      ],
      "metadata": {
        "id": "Kn4fpxMfZvoN"
      }
    },
    {
      "cell_type": "code",
      "source": [
        "beta_bp=calc_bandpower(datax,(12,30)); "
      ],
      "metadata": {
        "id": "_NdUD_2_LJ6e",
        "colab": {
          "base_uri": "https://localhost:8080/"
        },
        "outputId": "ec61701c-2c02-4eff-d5ca-3e634d25e491"
      },
      "execution_count": 15,
      "outputs": [
        {
          "output_type": "stream",
          "name": "stdout",
          "text": [
            "[[0.35603383 0.41146519 0.45357624 ... 0.27308112 0.4396875  0.38965223]\n",
            " [0.33201838 0.38487539 0.42450645 ... 0.26717995 0.41568302 0.36664392]\n",
            " [0.35548217 0.42218243 0.46825204 ... 0.27870012 0.47054109 0.43418372]\n",
            " ...\n",
            " [0.01106371 0.06232282 0.01299109 ... 0.03392964 0.20253663 0.0268503 ]\n",
            " [0.03600132 0.08815986 0.02114795 ... 0.04078716 0.26148094 0.03277376]\n",
            " [0.01219787 0.06892338 0.01305255 ... 0.03730099 0.2078753  0.02286423]]\n"
          ]
        }
      ]
    },
    {
      "cell_type": "markdown",
      "source": [
        "Gamma Band Power(Fmin=30,Fmax=45) # Hyperactivity. As the participants are watching videos the chance of hyperactivity is less and so we get the following result."
      ],
      "metadata": {
        "id": "LoQhQFqWaM0k"
      }
    },
    {
      "cell_type": "code",
      "source": [
        "gamma_bp=calc_bandpower(datax,(30,45));"
      ],
      "metadata": {
        "colab": {
          "base_uri": "https://localhost:8080/"
        },
        "id": "YL9hmJ2YAoXw",
        "outputId": "dd43ef59-bb47-4b36-c99d-adb7a77870a5"
      },
      "execution_count": 16,
      "outputs": [
        {
          "output_type": "stream",
          "name": "stdout",
          "text": [
            "[[0. 0. 0. ... 0. 0. 0.]\n",
            " [0. 0. 0. ... 0. 0. 0.]\n",
            " [0. 0. 0. ... 0. 0. 0.]\n",
            " ...\n",
            " [0. 0. 0. ... 0. 0. 0.]\n",
            " [0. 0. 0. ... 0. 0. 0.]\n",
            " [0. 0. 0. ... 0. 0. 0.]]\n"
          ]
        }
      ]
    },
    {
      "cell_type": "markdown",
      "source": [
        "We dont add the gamma band as it a zero value array"
      ],
      "metadata": {
        "id": "7o6NsiAU7M_N"
      }
    },
    {
      "cell_type": "code",
      "source": [
        "def concatenate_features(data):\n",
        "    return np.concatenate((mean(data),std(data),ptp(data),minim(data),maxim(data),argminim(data),argmaxim(data),\n",
        "                          mean_square(data),rms(data),abs_diffs_signal(data),\n",
        "                          skewness(data),kkurtosis(data),calc_entropy(data),calc_IQR(data),hjorth_activity(data),hjorth_mobility(data)\n",
        "                          ,hjorth_complexity(data),petrosian_fractD(data),katz_fd(data),spectral_entropy(data,128)),axis=-1);"
      ],
      "metadata": {
        "id": "H-JuMQsPt5x9"
      },
      "execution_count": 17,
      "outputs": []
    },
    {
      "cell_type": "code",
      "source": [
        "from tqdm.notebook import tqdm\n",
        "features=[]\n",
        "for data in tqdm(datax):\n",
        "    features.append(concatenate_features(data))\n",
        "features=np.concatenate((features,delta_bp,theta_bp,alpha_bp,beta_bp),axis=-1);\n",
        "features=np.array(features)"
      ],
      "metadata": {
        "colab": {
          "base_uri": "https://localhost:8080/",
          "height": 49,
          "referenced_widgets": [
            "bfd9ad6d8c5f4b74b3b89bdf98e34d94",
            "7bfdbe6e7e8a416fa9036b654feadcbd",
            "7964f8b0bd95462bb47307853d8d5db8",
            "dd1d042754f145499b8cf70457dcdb7c",
            "d65e09f7bb8e44f4963dca2b60e23a51",
            "7606743c64634dd5a3249e92a083eb4e",
            "3c39c4a6dae74f5a8cc0ca92c827110f",
            "9e30ed51401f4361a7d4ebed3c87ed65",
            "8e384f1fbdf649a3bc446b8266998d5c",
            "96775b9ac8e140edbc71fe4f3bd070a1",
            "61e6d0d10a0d4315b1b0e295a957d064"
          ]
        },
        "id": "eaJnv6RNu5m6",
        "outputId": "bedf45fd-47ea-4bdb-c076-697ec0d8337a"
      },
      "execution_count": 20,
      "outputs": [
        {
          "output_type": "display_data",
          "data": {
            "text/plain": [
              "  0%|          | 0/1280 [00:00<?, ?it/s]"
            ],
            "application/vnd.jupyter.widget-view+json": {
              "version_major": 2,
              "version_minor": 0,
              "model_id": "bfd9ad6d8c5f4b74b3b89bdf98e34d94"
            }
          },
          "metadata": {}
        }
      ]
    },
    {
      "cell_type": "code",
      "source": [
        "features.shape"
      ],
      "metadata": {
        "id": "GLQI_UwNsacM",
        "colab": {
          "base_uri": "https://localhost:8080/"
        },
        "outputId": "7ec43ce2-46e2-4a15-b351-3987e9f4a40d"
      },
      "execution_count": 21,
      "outputs": [
        {
          "output_type": "execute_result",
          "data": {
            "text/plain": [
              "(1280, 768)"
            ]
          },
          "metadata": {},
          "execution_count": 21
        }
      ]
    },
    {
      "cell_type": "markdown",
      "source": [
        "Some Exploratory Data Analysis"
      ],
      "metadata": {
        "id": "YXleT0IbOLot"
      }
    },
    {
      "cell_type": "code",
      "source": [
        "df_=pd.DataFrame(features);"
      ],
      "metadata": {
        "id": "3FkzPJjSdlx9"
      },
      "execution_count": 22,
      "outputs": []
    },
    {
      "cell_type": "code",
      "source": [
        "df_.describe()"
      ],
      "metadata": {
        "colab": {
          "base_uri": "https://localhost:8080/",
          "height": 430
        },
        "id": "S5EAPzMKjLid",
        "outputId": "35488113-04f9-4222-a136-c0a87973421a"
      },
      "execution_count": 23,
      "outputs": [
        {
          "output_type": "stream",
          "name": "stderr",
          "text": [
            "/usr/local/lib/python3.7/dist-packages/numpy/lib/function_base.py:4009: RuntimeWarning: invalid value encountered in subtract\n",
            "  diff_b_a = subtract(b, a)\n"
          ]
        },
        {
          "output_type": "execute_result",
          "data": {
            "text/plain": [
              "               0            1            2            3            4    \\\n",
              "count  1280.000000  1280.000000  1280.000000  1280.000000  1280.000000   \n",
              "mean     -0.000133    -0.000188    -0.001124     0.000159    -0.000334   \n",
              "std       0.023334     0.022212     0.018275     0.024610     0.020372   \n",
              "min      -0.165535    -0.146965    -0.187854    -0.202465    -0.106386   \n",
              "25%      -0.006170    -0.005897    -0.005919    -0.006794    -0.005631   \n",
              "50%      -0.000174     0.000158    -0.000353    -0.000279     0.000032   \n",
              "75%       0.005121     0.005285     0.004408     0.006358     0.004798   \n",
              "max       0.251534     0.216404     0.140089     0.224878     0.193328   \n",
              "\n",
              "               5            6            7            8            9    ...  \\\n",
              "count  1280.000000  1280.000000  1280.000000  1280.000000  1280.000000  ...   \n",
              "mean     -0.000118    -0.001420     0.001124     0.000909    -0.000308  ...   \n",
              "std       0.018881     0.019350     0.025276     0.023899     0.017168  ...   \n",
              "min      -0.137897    -0.195172    -0.143267    -0.234398    -0.117670  ...   \n",
              "25%      -0.005376    -0.006142    -0.007081    -0.004956    -0.005932  ...   \n",
              "50%       0.000106    -0.000319    -0.000001     0.000030    -0.000063  ...   \n",
              "75%       0.005420     0.004684     0.007482     0.005383     0.005681  ...   \n",
              "max       0.146430     0.133649     0.168540     0.181113     0.151643  ...   \n",
              "\n",
              "               758          759          760          761          762  \\\n",
              "count  1280.000000  1280.000000  1280.000000  1280.000000  1280.000000   \n",
              "mean      0.184439     0.149456     0.112257     0.170583     0.133312   \n",
              "std       0.303852     0.139919     0.139559     0.136508     0.121611   \n",
              "min       0.001740     0.001693     0.002714     0.006499     0.007668   \n",
              "25%       0.043268     0.033236     0.021517     0.067966     0.042473   \n",
              "50%       0.090991     0.088261     0.048750     0.127960     0.090647   \n",
              "75%       0.196175     0.242975     0.138175     0.247908     0.184447   \n",
              "max       2.809871     0.578552     0.787711     1.193602     0.625652   \n",
              "\n",
              "               763          764          765          766          767  \n",
              "count  1280.000000  1280.000000  1280.000000  1280.000000  1280.000000  \n",
              "mean      0.115381     0.138355     0.122505     0.141466     0.112568  \n",
              "std       0.091673     0.130485     0.103608     0.099578     0.101316  \n",
              "min       0.004006     0.003946     0.001656     0.007924     0.003831  \n",
              "25%       0.041444     0.041365     0.042133     0.063736     0.030359  \n",
              "50%       0.094812     0.087091     0.099946     0.118451     0.082270  \n",
              "75%       0.166996     0.205641     0.164054     0.202577     0.166952  \n",
              "max       0.617530     0.661375     0.541905     0.522362     0.488013  \n",
              "\n",
              "[8 rows x 768 columns]"
            ],
            "text/html": [
              "\n",
              "  <div id=\"df-1d50e5ff-634c-46c3-94f6-b5a8d1343644\">\n",
              "    <div class=\"colab-df-container\">\n",
              "      <div>\n",
              "<style scoped>\n",
              "    .dataframe tbody tr th:only-of-type {\n",
              "        vertical-align: middle;\n",
              "    }\n",
              "\n",
              "    .dataframe tbody tr th {\n",
              "        vertical-align: top;\n",
              "    }\n",
              "\n",
              "    .dataframe thead th {\n",
              "        text-align: right;\n",
              "    }\n",
              "</style>\n",
              "<table border=\"1\" class=\"dataframe\">\n",
              "  <thead>\n",
              "    <tr style=\"text-align: right;\">\n",
              "      <th></th>\n",
              "      <th>0</th>\n",
              "      <th>1</th>\n",
              "      <th>2</th>\n",
              "      <th>3</th>\n",
              "      <th>4</th>\n",
              "      <th>5</th>\n",
              "      <th>6</th>\n",
              "      <th>7</th>\n",
              "      <th>8</th>\n",
              "      <th>9</th>\n",
              "      <th>...</th>\n",
              "      <th>758</th>\n",
              "      <th>759</th>\n",
              "      <th>760</th>\n",
              "      <th>761</th>\n",
              "      <th>762</th>\n",
              "      <th>763</th>\n",
              "      <th>764</th>\n",
              "      <th>765</th>\n",
              "      <th>766</th>\n",
              "      <th>767</th>\n",
              "    </tr>\n",
              "  </thead>\n",
              "  <tbody>\n",
              "    <tr>\n",
              "      <th>count</th>\n",
              "      <td>1280.000000</td>\n",
              "      <td>1280.000000</td>\n",
              "      <td>1280.000000</td>\n",
              "      <td>1280.000000</td>\n",
              "      <td>1280.000000</td>\n",
              "      <td>1280.000000</td>\n",
              "      <td>1280.000000</td>\n",
              "      <td>1280.000000</td>\n",
              "      <td>1280.000000</td>\n",
              "      <td>1280.000000</td>\n",
              "      <td>...</td>\n",
              "      <td>1280.000000</td>\n",
              "      <td>1280.000000</td>\n",
              "      <td>1280.000000</td>\n",
              "      <td>1280.000000</td>\n",
              "      <td>1280.000000</td>\n",
              "      <td>1280.000000</td>\n",
              "      <td>1280.000000</td>\n",
              "      <td>1280.000000</td>\n",
              "      <td>1280.000000</td>\n",
              "      <td>1280.000000</td>\n",
              "    </tr>\n",
              "    <tr>\n",
              "      <th>mean</th>\n",
              "      <td>-0.000133</td>\n",
              "      <td>-0.000188</td>\n",
              "      <td>-0.001124</td>\n",
              "      <td>0.000159</td>\n",
              "      <td>-0.000334</td>\n",
              "      <td>-0.000118</td>\n",
              "      <td>-0.001420</td>\n",
              "      <td>0.001124</td>\n",
              "      <td>0.000909</td>\n",
              "      <td>-0.000308</td>\n",
              "      <td>...</td>\n",
              "      <td>0.184439</td>\n",
              "      <td>0.149456</td>\n",
              "      <td>0.112257</td>\n",
              "      <td>0.170583</td>\n",
              "      <td>0.133312</td>\n",
              "      <td>0.115381</td>\n",
              "      <td>0.138355</td>\n",
              "      <td>0.122505</td>\n",
              "      <td>0.141466</td>\n",
              "      <td>0.112568</td>\n",
              "    </tr>\n",
              "    <tr>\n",
              "      <th>std</th>\n",
              "      <td>0.023334</td>\n",
              "      <td>0.022212</td>\n",
              "      <td>0.018275</td>\n",
              "      <td>0.024610</td>\n",
              "      <td>0.020372</td>\n",
              "      <td>0.018881</td>\n",
              "      <td>0.019350</td>\n",
              "      <td>0.025276</td>\n",
              "      <td>0.023899</td>\n",
              "      <td>0.017168</td>\n",
              "      <td>...</td>\n",
              "      <td>0.303852</td>\n",
              "      <td>0.139919</td>\n",
              "      <td>0.139559</td>\n",
              "      <td>0.136508</td>\n",
              "      <td>0.121611</td>\n",
              "      <td>0.091673</td>\n",
              "      <td>0.130485</td>\n",
              "      <td>0.103608</td>\n",
              "      <td>0.099578</td>\n",
              "      <td>0.101316</td>\n",
              "    </tr>\n",
              "    <tr>\n",
              "      <th>min</th>\n",
              "      <td>-0.165535</td>\n",
              "      <td>-0.146965</td>\n",
              "      <td>-0.187854</td>\n",
              "      <td>-0.202465</td>\n",
              "      <td>-0.106386</td>\n",
              "      <td>-0.137897</td>\n",
              "      <td>-0.195172</td>\n",
              "      <td>-0.143267</td>\n",
              "      <td>-0.234398</td>\n",
              "      <td>-0.117670</td>\n",
              "      <td>...</td>\n",
              "      <td>0.001740</td>\n",
              "      <td>0.001693</td>\n",
              "      <td>0.002714</td>\n",
              "      <td>0.006499</td>\n",
              "      <td>0.007668</td>\n",
              "      <td>0.004006</td>\n",
              "      <td>0.003946</td>\n",
              "      <td>0.001656</td>\n",
              "      <td>0.007924</td>\n",
              "      <td>0.003831</td>\n",
              "    </tr>\n",
              "    <tr>\n",
              "      <th>25%</th>\n",
              "      <td>-0.006170</td>\n",
              "      <td>-0.005897</td>\n",
              "      <td>-0.005919</td>\n",
              "      <td>-0.006794</td>\n",
              "      <td>-0.005631</td>\n",
              "      <td>-0.005376</td>\n",
              "      <td>-0.006142</td>\n",
              "      <td>-0.007081</td>\n",
              "      <td>-0.004956</td>\n",
              "      <td>-0.005932</td>\n",
              "      <td>...</td>\n",
              "      <td>0.043268</td>\n",
              "      <td>0.033236</td>\n",
              "      <td>0.021517</td>\n",
              "      <td>0.067966</td>\n",
              "      <td>0.042473</td>\n",
              "      <td>0.041444</td>\n",
              "      <td>0.041365</td>\n",
              "      <td>0.042133</td>\n",
              "      <td>0.063736</td>\n",
              "      <td>0.030359</td>\n",
              "    </tr>\n",
              "    <tr>\n",
              "      <th>50%</th>\n",
              "      <td>-0.000174</td>\n",
              "      <td>0.000158</td>\n",
              "      <td>-0.000353</td>\n",
              "      <td>-0.000279</td>\n",
              "      <td>0.000032</td>\n",
              "      <td>0.000106</td>\n",
              "      <td>-0.000319</td>\n",
              "      <td>-0.000001</td>\n",
              "      <td>0.000030</td>\n",
              "      <td>-0.000063</td>\n",
              "      <td>...</td>\n",
              "      <td>0.090991</td>\n",
              "      <td>0.088261</td>\n",
              "      <td>0.048750</td>\n",
              "      <td>0.127960</td>\n",
              "      <td>0.090647</td>\n",
              "      <td>0.094812</td>\n",
              "      <td>0.087091</td>\n",
              "      <td>0.099946</td>\n",
              "      <td>0.118451</td>\n",
              "      <td>0.082270</td>\n",
              "    </tr>\n",
              "    <tr>\n",
              "      <th>75%</th>\n",
              "      <td>0.005121</td>\n",
              "      <td>0.005285</td>\n",
              "      <td>0.004408</td>\n",
              "      <td>0.006358</td>\n",
              "      <td>0.004798</td>\n",
              "      <td>0.005420</td>\n",
              "      <td>0.004684</td>\n",
              "      <td>0.007482</td>\n",
              "      <td>0.005383</td>\n",
              "      <td>0.005681</td>\n",
              "      <td>...</td>\n",
              "      <td>0.196175</td>\n",
              "      <td>0.242975</td>\n",
              "      <td>0.138175</td>\n",
              "      <td>0.247908</td>\n",
              "      <td>0.184447</td>\n",
              "      <td>0.166996</td>\n",
              "      <td>0.205641</td>\n",
              "      <td>0.164054</td>\n",
              "      <td>0.202577</td>\n",
              "      <td>0.166952</td>\n",
              "    </tr>\n",
              "    <tr>\n",
              "      <th>max</th>\n",
              "      <td>0.251534</td>\n",
              "      <td>0.216404</td>\n",
              "      <td>0.140089</td>\n",
              "      <td>0.224878</td>\n",
              "      <td>0.193328</td>\n",
              "      <td>0.146430</td>\n",
              "      <td>0.133649</td>\n",
              "      <td>0.168540</td>\n",
              "      <td>0.181113</td>\n",
              "      <td>0.151643</td>\n",
              "      <td>...</td>\n",
              "      <td>2.809871</td>\n",
              "      <td>0.578552</td>\n",
              "      <td>0.787711</td>\n",
              "      <td>1.193602</td>\n",
              "      <td>0.625652</td>\n",
              "      <td>0.617530</td>\n",
              "      <td>0.661375</td>\n",
              "      <td>0.541905</td>\n",
              "      <td>0.522362</td>\n",
              "      <td>0.488013</td>\n",
              "    </tr>\n",
              "  </tbody>\n",
              "</table>\n",
              "<p>8 rows × 768 columns</p>\n",
              "</div>\n",
              "      <button class=\"colab-df-convert\" onclick=\"convertToInteractive('df-1d50e5ff-634c-46c3-94f6-b5a8d1343644')\"\n",
              "              title=\"Convert this dataframe to an interactive table.\"\n",
              "              style=\"display:none;\">\n",
              "        \n",
              "  <svg xmlns=\"http://www.w3.org/2000/svg\" height=\"24px\"viewBox=\"0 0 24 24\"\n",
              "       width=\"24px\">\n",
              "    <path d=\"M0 0h24v24H0V0z\" fill=\"none\"/>\n",
              "    <path d=\"M18.56 5.44l.94 2.06.94-2.06 2.06-.94-2.06-.94-.94-2.06-.94 2.06-2.06.94zm-11 1L8.5 8.5l.94-2.06 2.06-.94-2.06-.94L8.5 2.5l-.94 2.06-2.06.94zm10 10l.94 2.06.94-2.06 2.06-.94-2.06-.94-.94-2.06-.94 2.06-2.06.94z\"/><path d=\"M17.41 7.96l-1.37-1.37c-.4-.4-.92-.59-1.43-.59-.52 0-1.04.2-1.43.59L10.3 9.45l-7.72 7.72c-.78.78-.78 2.05 0 2.83L4 21.41c.39.39.9.59 1.41.59.51 0 1.02-.2 1.41-.59l7.78-7.78 2.81-2.81c.8-.78.8-2.07 0-2.86zM5.41 20L4 18.59l7.72-7.72 1.47 1.35L5.41 20z\"/>\n",
              "  </svg>\n",
              "      </button>\n",
              "      \n",
              "  <style>\n",
              "    .colab-df-container {\n",
              "      display:flex;\n",
              "      flex-wrap:wrap;\n",
              "      gap: 12px;\n",
              "    }\n",
              "\n",
              "    .colab-df-convert {\n",
              "      background-color: #E8F0FE;\n",
              "      border: none;\n",
              "      border-radius: 50%;\n",
              "      cursor: pointer;\n",
              "      display: none;\n",
              "      fill: #1967D2;\n",
              "      height: 32px;\n",
              "      padding: 0 0 0 0;\n",
              "      width: 32px;\n",
              "    }\n",
              "\n",
              "    .colab-df-convert:hover {\n",
              "      background-color: #E2EBFA;\n",
              "      box-shadow: 0px 1px 2px rgba(60, 64, 67, 0.3), 0px 1px 3px 1px rgba(60, 64, 67, 0.15);\n",
              "      fill: #174EA6;\n",
              "    }\n",
              "\n",
              "    [theme=dark] .colab-df-convert {\n",
              "      background-color: #3B4455;\n",
              "      fill: #D2E3FC;\n",
              "    }\n",
              "\n",
              "    [theme=dark] .colab-df-convert:hover {\n",
              "      background-color: #434B5C;\n",
              "      box-shadow: 0px 1px 3px 1px rgba(0, 0, 0, 0.15);\n",
              "      filter: drop-shadow(0px 1px 2px rgba(0, 0, 0, 0.3));\n",
              "      fill: #FFFFFF;\n",
              "    }\n",
              "  </style>\n",
              "\n",
              "      <script>\n",
              "        const buttonEl =\n",
              "          document.querySelector('#df-1d50e5ff-634c-46c3-94f6-b5a8d1343644 button.colab-df-convert');\n",
              "        buttonEl.style.display =\n",
              "          google.colab.kernel.accessAllowed ? 'block' : 'none';\n",
              "\n",
              "        async function convertToInteractive(key) {\n",
              "          const element = document.querySelector('#df-1d50e5ff-634c-46c3-94f6-b5a8d1343644');\n",
              "          const dataTable =\n",
              "            await google.colab.kernel.invokeFunction('convertToInteractive',\n",
              "                                                     [key], {});\n",
              "          if (!dataTable) return;\n",
              "\n",
              "          const docLinkHtml = 'Like what you see? Visit the ' +\n",
              "            '<a target=\"_blank\" href=https://colab.research.google.com/notebooks/data_table.ipynb>data table notebook</a>'\n",
              "            + ' to learn more about interactive tables.';\n",
              "          element.innerHTML = '';\n",
              "          dataTable['output_type'] = 'display_data';\n",
              "          await google.colab.output.renderOutput(dataTable, element);\n",
              "          const docLink = document.createElement('div');\n",
              "          docLink.innerHTML = docLinkHtml;\n",
              "          element.appendChild(docLink);\n",
              "        }\n",
              "      </script>\n",
              "    </div>\n",
              "  </div>\n",
              "  "
            ]
          },
          "metadata": {},
          "execution_count": 23
        }
      ]
    },
    {
      "cell_type": "code",
      "source": [
        "np.max(features)"
      ],
      "metadata": {
        "colab": {
          "base_uri": "https://localhost:8080/"
        },
        "id": "-oazTCyZGmNQ",
        "outputId": "5424e821-3ea2-4d48-e073-16d9cc31e9e9"
      },
      "execution_count": 27,
      "outputs": [
        {
          "output_type": "execute_result",
          "data": {
            "text/plain": [
              "19643.307080257415"
            ]
          },
          "metadata": {},
          "execution_count": 27
        }
      ]
    },
    {
      "cell_type": "code",
      "source": [
        "np.min(features)"
      ],
      "metadata": {
        "colab": {
          "base_uri": "https://localhost:8080/"
        },
        "id": "0vC1QMbzGvQL",
        "outputId": "71c1554a-a0a1-45f0-e52e-392f29b97311"
      },
      "execution_count": 28,
      "outputs": [
        {
          "output_type": "execute_result",
          "data": {
            "text/plain": [
              "-inf"
            ]
          },
          "metadata": {},
          "execution_count": 28
        }
      ]
    },
    {
      "cell_type": "markdown",
      "source": [
        "We do not want an outlier like -inf to cause problems to our prediction model so we remove it"
      ],
      "metadata": {
        "id": "GI0GVpAiGyYj"
      }
    },
    {
      "cell_type": "code",
      "source": [
        "features[features<-1e300]=-2e6;"
      ],
      "metadata": {
        "id": "F6HQSZi2G_vZ"
      },
      "execution_count": 29,
      "outputs": []
    },
    {
      "cell_type": "markdown",
      "source": [
        "Through early data exploration we can infer one of the main problems of our dataset after feature extraction is that the number of training examples is quite significantly greater than the number of features. Therefore now we try adding more features by inserting polynomial features in our dataset."
      ],
      "metadata": {
        "id": "L4RtrLPbHPbb"
      }
    },
    {
      "cell_type": "code",
      "source": [
        "transform=PolynomialFeatures(degree=2);#degree can be further tuned as a hyperparameter\n",
        "features=transform.fit_transform(features);"
      ],
      "metadata": {
        "id": "Zw22q3QhHmHu"
      },
      "execution_count": 31,
      "outputs": []
    },
    {
      "cell_type": "code",
      "source": [
        "features.shape"
      ],
      "metadata": {
        "colab": {
          "base_uri": "https://localhost:8080/"
        },
        "id": "hXm7MH67HNq3",
        "outputId": "8e54373f-8b82-428c-b73a-ab7b40bc9a71"
      },
      "execution_count": 32,
      "outputs": [
        {
          "output_type": "execute_result",
          "data": {
            "text/plain": [
              "(1280, 296065)"
            ]
          },
          "metadata": {},
          "execution_count": 32
        }
      ]
    },
    {
      "cell_type": "code",
      "source": [
        "np.save('/content/drive/MyDrive/DEAP/extracted_features/' + 'features.npy', features)"
      ],
      "metadata": {
        "id": "um-Y1Xwfv0lN"
      },
      "execution_count": 33,
      "outputs": []
    }
  ]
}