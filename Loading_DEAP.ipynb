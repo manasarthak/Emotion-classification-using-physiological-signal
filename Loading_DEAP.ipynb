{
  "cells": [
    {
      "cell_type": "markdown",
      "metadata": {
        "id": "view-in-github",
        "colab_type": "text"
      },
      "source": [
        "<a href=\"https://colab.research.google.com/github/manasarthak/Emotion-classification-using-physiological-signal/blob/main/Loading_DEAP.ipynb\" target=\"_parent\"><img src=\"https://colab.research.google.com/assets/colab-badge.svg\" alt=\"Open In Colab\"/></a>"
      ]
    },
    {
      "cell_type": "code",
      "source": [
        "#from google.colab import drive\n",
        "#drive.mount('/content/drive')"
      ],
      "metadata": {
        "colab": {
          "base_uri": "https://localhost:8080/"
        },
        "id": "W1nyCJqHCD4Y",
        "outputId": "6641cca8-b997-468a-ac4f-24ae30ed62fd"
      },
      "id": "W1nyCJqHCD4Y",
      "execution_count": 3,
      "outputs": [
        {
          "output_type": "stream",
          "name": "stdout",
          "text": [
            "Mounted at /content/drive\n"
          ]
        }
      ]
    },
    {
      "cell_type": "code",
      "execution_count": 4,
      "metadata": {
        "id": "5c591d6a"
      },
      "outputs": [],
      "source": [
        "from IPython.utils import io\n",
        "import numpy as np\n",
        "import collections\n",
        "\n",
        "from sklearn.preprocessing import StandardScaler,MinMaxScaler\n",
        "from sklearn.utils import shuffle\n",
        "\n",
        "import scipy.io\n",
        "from scipy import signal,integrate\n",
        "import matplotlib.pyplot as plt\n",
        "\n",
        "import keras\n",
        "from keras.models import Model\n",
        "from keras.layers import Input,Dense,LSTM,Dropout\n",
        "from keras import optimizers\n",
        "\n",
        "import mne \n",
        "import math\n",
        "\n",
        "import pickle"
      ],
      "id": "5c591d6a"
    },
    {
      "cell_type": "code",
      "execution_count": 5,
      "metadata": {
        "id": "ece503f8"
      },
      "outputs": [],
      "source": [
        "def convert(subject_file):\n",
        "    pth=pickle.load(open(subject_file,'rb'),encoding='latin1');\n",
        "    data=pth['data'][:,0:32,13*128:-10*128]\n",
        "  #excluding the first 3 seconds of baseline signal data and 10 seconds at the satrt and finish to counter residual emotions and exhaustion\n",
        "    labels=pth['labels'][:,0:2]#only the valence and arousal dimensions \n",
        "    valence_labels,valence_data=[],[];\n",
        "    arousal_labels,arousal_data=[],[];\n",
        "    for i, label in enumerate(labels):\n",
        "        valence,arousal=label[0],label[1]\n",
        "        if(valence>=5):\n",
        "            valence_labels.append(1);\n",
        "            valence_data.append(data[i]);\n",
        "        if(valence<5):\n",
        "            valence_labels.append(0);\n",
        "            valence_data.append(data[i]);\n",
        "        if arousal >=5:\n",
        "            arousal_labels.append(1);\n",
        "            arousal_data.append(data[i]);\n",
        "        if arousal <5:\n",
        "            arousal_labels.append(0);\n",
        "            arousal_data.append(data[i]);\n",
        "            \n",
        "    print(\"valence:\",len(valence_labels),\"arousal: \",len(arousal_labels));\n",
        "    return valence_labels,valence_data,arousal_labels,arousal_data;"
      ],
      "id": "ece503f8"
    },
    {
      "cell_type": "code",
      "execution_count": 8,
      "metadata": {
        "id": "RydqR7GNqy9j"
      },
      "outputs": [],
      "source": [
        "def standardize(a,multiple):\n",
        "    std=np.std(a)\n",
        "    mean=np.mean(a)\n",
        "    a=(a-mean)/std\n",
        "    return multiple*a"
      ],
      "id": "RydqR7GNqy9j"
    },
    {
      "cell_type": "code",
      "execution_count": 9,
      "metadata": {
        "id": "87166d23"
      },
      "outputs": [],
      "source": [
        "def convertAll():\n",
        "    valence_labels_all,valence_data_all=[],[];\n",
        "    arousal_labels_all,arousal_data_all=[],[];\n",
        "    \n",
        "    for i in range(32):\n",
        "        if(i<9):\n",
        "            file=\"0\"+str(i+1);\n",
        "        else:\n",
        "            file=str(i+1);\n",
        "        filename='/content/drive/MyDrive/DEAP/s'+file+'.dat';\n",
        "        print(filename);\n",
        "        valence_labels,valence_data,arousal_labels,arousal_data=convert(filename);\n",
        "        valence_labels_all+=valence_labels\n",
        "        for d in valence_data:\n",
        "            d=standardize(d,1)\n",
        "            valence_data_all.append(d)\n",
        "        arousal_labels_all+=arousal_labels\n",
        "        for d in arousal_data:\n",
        "            d=standardize(d,1)\n",
        "            arousal_data_all.append(d)\n",
        "    valence_labels_all=np.array(valence_labels_all)\n",
        "    valence_data_all=np.array(valence_data_all)\n",
        "    arousal_labels_all=np.array(arousal_labels_all)\n",
        "    arousal_data_all=np.array(arousal_data_all)\n",
        "    \n",
        "    print(\"Valence trial data for all subject: \", valence_labels_all.shape,valence_data_all.shape)\n",
        "    print(\"Arousal trial data for all subject: \", arousal_labels_all.shape,arousal_data_all.shape)\n",
        "    \n",
        "    # save numpy array of total data to files\n",
        "    np.save('/content/drive/MyDrive/DEAP/valence/' + 'all_valence_labels.npy',valence_labels_all)\n",
        "    np.save('/content/drive/MyDrive/DEAP/valence/' + 'all_valence_data.npy', valence_data_all)\n",
        "    np.save('/content/drive/MyDrive/DEAP/arousal/' + 'all_arousal_labels.npy',arousal_labels_all)\n",
        "    np.save('/content/drive/MyDrive/DEAP/arousal/' + 'all_arousal_data.npy', arousal_data_all)"
      ],
      "id": "87166d23"
    },
    {
      "cell_type": "code",
      "source": [
        "convertAll();"
      ],
      "metadata": {
        "colab": {
          "base_uri": "https://localhost:8080/"
        },
        "id": "dX71Gy6JEO5J",
        "outputId": "200ea981-45d3-4855-ba01-bf16520150cc"
      },
      "id": "dX71Gy6JEO5J",
      "execution_count": 11,
      "outputs": [
        {
          "output_type": "stream",
          "name": "stdout",
          "text": [
            "/content/drive/MyDrive/DEAP/s01.dat\n",
            "valence: 40 arousal:  40\n",
            "/content/drive/MyDrive/DEAP/s02.dat\n",
            "valence: 40 arousal:  40\n",
            "/content/drive/MyDrive/DEAP/s03.dat\n",
            "valence: 40 arousal:  40\n",
            "/content/drive/MyDrive/DEAP/s04.dat\n",
            "valence: 40 arousal:  40\n",
            "/content/drive/MyDrive/DEAP/s05.dat\n",
            "valence: 40 arousal:  40\n",
            "/content/drive/MyDrive/DEAP/s06.dat\n",
            "valence: 40 arousal:  40\n",
            "/content/drive/MyDrive/DEAP/s07.dat\n",
            "valence: 40 arousal:  40\n",
            "/content/drive/MyDrive/DEAP/s08.dat\n",
            "valence: 40 arousal:  40\n",
            "/content/drive/MyDrive/DEAP/s09.dat\n",
            "valence: 40 arousal:  40\n",
            "/content/drive/MyDrive/DEAP/s10.dat\n",
            "valence: 40 arousal:  40\n",
            "/content/drive/MyDrive/DEAP/s11.dat\n",
            "valence: 40 arousal:  40\n",
            "/content/drive/MyDrive/DEAP/s12.dat\n",
            "valence: 40 arousal:  40\n",
            "/content/drive/MyDrive/DEAP/s13.dat\n",
            "valence: 40 arousal:  40\n",
            "/content/drive/MyDrive/DEAP/s14.dat\n",
            "valence: 40 arousal:  40\n",
            "/content/drive/MyDrive/DEAP/s15.dat\n",
            "valence: 40 arousal:  40\n",
            "/content/drive/MyDrive/DEAP/s16.dat\n",
            "valence: 40 arousal:  40\n",
            "/content/drive/MyDrive/DEAP/s17.dat\n",
            "valence: 40 arousal:  40\n",
            "/content/drive/MyDrive/DEAP/s18.dat\n",
            "valence: 40 arousal:  40\n",
            "/content/drive/MyDrive/DEAP/s19.dat\n",
            "valence: 40 arousal:  40\n",
            "/content/drive/MyDrive/DEAP/s20.dat\n",
            "valence: 40 arousal:  40\n",
            "/content/drive/MyDrive/DEAP/s21.dat\n",
            "valence: 40 arousal:  40\n",
            "/content/drive/MyDrive/DEAP/s22.dat\n",
            "valence: 40 arousal:  40\n",
            "/content/drive/MyDrive/DEAP/s23.dat\n",
            "valence: 40 arousal:  40\n",
            "/content/drive/MyDrive/DEAP/s24.dat\n",
            "valence: 40 arousal:  40\n",
            "/content/drive/MyDrive/DEAP/s25.dat\n",
            "valence: 40 arousal:  40\n",
            "/content/drive/MyDrive/DEAP/s26.dat\n",
            "valence: 40 arousal:  40\n",
            "/content/drive/MyDrive/DEAP/s27.dat\n",
            "valence: 40 arousal:  40\n",
            "/content/drive/MyDrive/DEAP/s28.dat\n",
            "valence: 40 arousal:  40\n",
            "/content/drive/MyDrive/DEAP/s29.dat\n",
            "valence: 40 arousal:  40\n",
            "/content/drive/MyDrive/DEAP/s30.dat\n",
            "valence: 40 arousal:  40\n",
            "/content/drive/MyDrive/DEAP/s31.dat\n",
            "valence: 40 arousal:  40\n",
            "/content/drive/MyDrive/DEAP/s32.dat\n",
            "valence: 40 arousal:  40\n",
            "Valence trial data for all subject:  (1280,) (1280, 32, 5120)\n",
            "Arousal trial data for all subject:  (1280,) (1280, 32, 5120)\n"
          ]
        }
      ]
    }
  ],
  "metadata": {
    "accelerator": "GPU",
    "colab": {
      "collapsed_sections": [],
      "machine_shape": "hm",
      "name": "Loading_DEAP.ipynb",
      "provenance": [],
      "include_colab_link": true
    },
    "gpuClass": "standard",
    "kernelspec": {
      "display_name": "Python 3 (ipykernel)",
      "language": "python",
      "name": "python3"
    },
    "language_info": {
      "codemirror_mode": {
        "name": "ipython",
        "version": 3
      },
      "file_extension": ".py",
      "mimetype": "text/x-python",
      "name": "python",
      "nbconvert_exporter": "python",
      "pygments_lexer": "ipython3",
      "version": "3.10.2"
    }
  },
  "nbformat": 4,
  "nbformat_minor": 5
}