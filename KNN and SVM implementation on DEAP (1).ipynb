{
 "cells": [
  {
   "cell_type": "code",
   "execution_count": 10,
   "id": "fb35fdce",
   "metadata": {},
   "outputs": [],
   "source": [
    "from IPython.utils import io\n",
    "import numpy as np\n",
    "import collections\n",
    "\n",
    "from sklearn.preprocessing import StandardScaler,MinMaxScaler\n",
    "from sklearn.utils import shuffle\n",
    "\n",
    "import scipy.io\n",
    "from scipy import signal,integrate\n",
    "import matplotlib.pyplot as plt\n",
    "\n",
    "import keras\n",
    "from keras.models import Model\n",
    "from keras.layers import Input,Dense,LSTM,Dropout\n",
    "\n",
    "import mne \n",
    "import math\n",
    "\n",
    "import pickle"
   ]
  },
  {
   "cell_type": "code",
   "execution_count": 3,
   "id": "03ac67d4",
   "metadata": {},
   "outputs": [],
   "source": [
    "def load_data(dim):\n",
    "    if dim=='valence':\n",
    "        labels_all=np.load('DEAP/valence/' + 'all_valence_labels.npy',allow_pickle=True)\n",
    "        data_all=np.load('DEAP/valence/' + 'all_valence_data.npy',allow_pickle=True)\n",
    "        print(\"Valence :\",labels_all.shape,data_all.shape)\n",
    "    elif dim=='arousal':\n",
    "        labels_all=np.load('DEAP/arousal/'+'all_arousal_labels.npy',allow_pickle=True)\n",
    "        data_all=np.load('DEAP/arousal/'+'all_arousal_data.npy',allow_pickle=True)\n",
    "        print(\"Arousal: \",labels_all.shape,data_all.shape)\n",
    "    elif dim=='dominance':\n",
    "        labels_all=np.load('DEAP/dominance/all_dominance_labels.npy',allow_pickle=True)\n",
    "        data_all=np.load('DEAP/dominance/all_dominance_data.npy',allow_pickle=True)\n",
    "        print(\"Dominance: \",labels_all.shape,data_all.shape) \n",
    "    return labels_all,data_all"
   ]
  },
  {
   "cell_type": "code",
   "execution_count": 4,
   "id": "49e4f4c1",
   "metadata": {},
   "outputs": [
    {
     "name": "stdout",
     "output_type": "stream",
     "text": [
      "Valence : (1064,) (1064, 32, 7680)\n"
     ]
    }
   ],
   "source": [
    "labels_all_val,data_all_val=load_data(dim='valence')"
   ]
  },
  {
   "cell_type": "code",
   "execution_count": 5,
   "id": "4e946930",
   "metadata": {},
   "outputs": [
    {
     "name": "stdout",
     "output_type": "stream",
     "text": [
      "Arousal:  (1105,) (1105, 32, 7680)\n"
     ]
    }
   ],
   "source": [
    "labels_all_ar,data_all_ar=load_data(dim='arousal')"
   ]
  },
  {
   "cell_type": "code",
   "execution_count": 6,
   "id": "73449bca",
   "metadata": {},
   "outputs": [
    {
     "name": "stdout",
     "output_type": "stream",
     "text": [
      "Dominance:  (1122,) (1122, 32, 7680)\n"
     ]
    }
   ],
   "source": [
    "labels_all_dom,data_all_dom=load_data(dim='dominance')"
   ]
  },
  {
   "cell_type": "code",
   "execution_count": 7,
   "id": "f8e622e5",
   "metadata": {},
   "outputs": [
    {
     "name": "stdout",
     "output_type": "stream",
     "text": [
      "(851, 245760) (851,) (213, 245760) (213,)\n"
     ]
    }
   ],
   "source": [
    "from sklearn.model_selection import train_test_split\n",
    "data_all_val=data_all_val.reshape(1064,32*7680)\n",
    "Xtrain,Xtest,Ytrain,Ytest=train_test_split(data_all_val,labels_all_val,test_size=0.2,random_state=42)\n",
    "print(Xtrain.shape,Ytrain.shape,Xtest.shape,Ytest.shape);"
   ]
  },
  {
   "cell_type": "code",
   "execution_count": 10,
   "id": "791557d0",
   "metadata": {},
   "outputs": [
    {
     "name": "stdout",
     "output_type": "stream",
     "text": [
      "Model accuracy score with default hyperparameters i.e C=1,kernel=rbf,gamma=auto :  0.6713615023474179\n"
     ]
    }
   ],
   "source": [
    "from sklearn.svm import SVC\n",
    "svc=SVC()\n",
    "svc.fit(Xtrain,Ytrain)\n",
    "Ypred=svc.predict(Xtest)\n",
    "print('Model accuracy score with default hyperparameters i.e C=1,kernel=rbf,gamma=auto : ',accuracy_score(Ytest,Ypred))"
   ]
  },
  {
   "cell_type": "code",
   "execution_count": 13,
   "id": "652df45e",
   "metadata": {},
   "outputs": [
    {
     "name": "stdout",
     "output_type": "stream",
     "text": [
      "Model accuracy score after increasing the value of C i.e C=1000.0,kernel=rbf,gamma=auto :  0.676056338028169\n"
     ]
    }
   ],
   "source": [
    "svc=SVC(kernel='linear')\n",
    "svc.fit(Xtrain,Ytrain)\n",
    "Ypred=svc.predict(Xtest)\n",
    "print('Model accuracy score after increasing the value of C i.e C=1.0,kernel=linear,gamma=auto : ',accuracy_score(Ytest,Ypred))"
   ]
  },
  {
   "cell_type": "code",
   "execution_count": 15,
   "id": "11a17027",
   "metadata": {},
   "outputs": [
    {
     "name": "stdout",
     "output_type": "stream",
     "text": [
      "(884, 245760) (884,) (221, 245760) (221,)\n"
     ]
    }
   ],
   "source": [
    "data_all_ar=data_all_ar.reshape(1105,32*7680)\n",
    "Xtrain,Xtest,Ytrain,Ytest=train_test_split(data_all_ar,labels_all_ar,test_size=0.2,random_state=42)\n",
    "print(Xtrain.shape,Ytrain.shape,Xtest.shape,Ytest.shape);"
   ]
  },
  {
   "cell_type": "code",
   "execution_count": 24,
   "id": "776a3791",
   "metadata": {},
   "outputs": [
    {
     "name": "stdout",
     "output_type": "stream",
     "text": [
      "Model accuracy score with default hyperparameters i.e C=1,kernel=rbf,gamma=auto :  0.6334841628959276\n"
     ]
    }
   ],
   "source": [
    "svc=SVC(kernel='poly')\n",
    "svc.fit(Xtrain,Ytrain)\n",
    "Ypred=svc.predict(Xtest)\n",
    "print('Model accuracy score with default hyperparameters i.e C=1,kernel=polynomial,gamma=auto : ',accuracy_score(Ytest,Ypred))"
   ]
  },
  {
   "cell_type": "code",
   "execution_count": 40,
   "id": "4a4a51e2",
   "metadata": {},
   "outputs": [
    {
     "name": "stdout",
     "output_type": "stream",
     "text": [
      "(851, 245760) (851,) (213, 245760) (213,)\n"
     ]
    }
   ],
   "source": [
    "Xtrain,Xtest,Ytrain,Ytest=train_test_split(data_all_val,labels_all_val,test_size=0.2,random_state=42)\n",
    "print(Xtrain.shape,Ytrain.shape,Xtest.shape,Ytest.shape);"
   ]
  },
  {
   "cell_type": "code",
   "execution_count": 11,
   "id": "a739334d",
   "metadata": {},
   "outputs": [
    {
     "name": "stdout",
     "output_type": "stream",
     "text": [
      "Model accuracy score with k= 1  :  0.5727699530516432\n",
      "Model accuracy score with k= 2  :  0.4647887323943662\n",
      "Model accuracy score with k= 3  :  0.5821596244131455\n",
      "Model accuracy score with k= 4  :  0.5539906103286385\n",
      "Model accuracy score with k= 5  :  0.6009389671361502\n",
      "Model accuracy score with k= 6  :  0.568075117370892\n",
      "Model accuracy score with k= 7  :  0.5727699530516432\n",
      "Model accuracy score with k= 8  :  0.5446009389671361\n",
      "Model accuracy score with k= 9  :  0.6009389671361502\n",
      "Model accuracy score with k= 10  :  0.5727699530516432\n",
      "Model accuracy score with k= 11  :  0.6291079812206573\n",
      "Model accuracy score with k= 12  :  0.6291079812206573\n",
      "Model accuracy score with k= 13  :  0.6384976525821596\n",
      "Model accuracy score with k= 14  :  0.6384976525821596\n",
      "Model accuracy score with k= 15  :  0.6525821596244131\n",
      "Model accuracy score with k= 16  :  0.6384976525821596\n",
      "Model accuracy score with k= 17  :  0.6572769953051644\n",
      "Model accuracy score with k= 18  :  0.6619718309859155\n",
      "Model accuracy score with k= 19  :  0.6666666666666666\n",
      "Model accuracy score with k= 20  :  0.6572769953051644\n",
      "Model accuracy score with k= 21  :  0.6666666666666666\n",
      "Model accuracy score with k= 22  :  0.6572769953051644\n",
      "Model accuracy score with k= 23  :  0.6713615023474179\n",
      "Model accuracy score with k= 24  :  0.6666666666666666\n",
      "Model accuracy score with k= 25  :  0.6572769953051644\n",
      "Model accuracy score with k= 26  :  0.6572769953051644\n",
      "Model accuracy score with k= 27  :  0.6713615023474179\n",
      "Model accuracy score with k= 28  :  0.676056338028169\n",
      "Model accuracy score with k= 29  :  0.676056338028169\n",
      "Model accuracy score with k= 30  :  0.676056338028169\n",
      "Model accuracy score with k= 31  :  0.6807511737089202\n",
      "Model accuracy score with k= 32  :  0.6807511737089202\n",
      "Model accuracy score with k= 33  :  0.6807511737089202\n",
      "Model accuracy score with k= 34  :  0.6854460093896714\n",
      "Model accuracy score with k= 35  :  0.6807511737089202\n",
      "Model accuracy score with k= 36  :  0.6854460093896714\n",
      "Model accuracy score with k= 37  :  0.6807511737089202\n",
      "Model accuracy score with k= 38  :  0.6901408450704225\n",
      "Model accuracy score with k= 39  :  0.6854460093896714\n",
      "Model accuracy score with k= 40  :  0.6948356807511737\n",
      "Model accuracy score with k= 41  :  0.676056338028169\n",
      "Model accuracy score with k= 42  :  0.676056338028169\n",
      "Model accuracy score with k= 43  :  0.6713615023474179\n",
      "Model accuracy score with k= 44  :  0.6713615023474179\n",
      "Model accuracy score with k= 45  :  0.6713615023474179\n",
      "Model accuracy score with k= 46  :  0.6713615023474179\n",
      "Model accuracy score with k= 47  :  0.6713615023474179\n",
      "Model accuracy score with k= 48  :  0.6713615023474179\n",
      "Model accuracy score with k= 49  :  0.6666666666666666\n"
     ]
    }
   ],
   "source": [
    "from sklearn.neighbors import KNeighborsClassifier\n",
    "from sklearn.metrics import accuracy_score\n",
    "# instantiate the model\n",
    "for i in range(1,50):\n",
    "    knn = KNeighborsClassifier(n_neighbors=i)\n",
    "    # fit the model to the training set\n",
    "    knn.fit(Xtrain,Ytrain)\n",
    "    Ypred=knn.predict(Xtest)\n",
    "    print('Model accuracy score with k=',i,' : ',accuracy_score(Ytest,Ypred))"
   ]
  },
  {
   "cell_type": "code",
   "execution_count": 16,
   "id": "6289717c",
   "metadata": {},
   "outputs": [
    {
     "name": "stdout",
     "output_type": "stream",
     "text": [
      "Minimum error:- 0.3665158371040724 at K = 32\n"
     ]
    },
    {
     "data": {
      "image/png": "[encoded data removed]",
      "text/plain": [
       "<Figure size 720x432 with 1 Axes>"
      ]
     },
     "metadata": {
      "needs_background": "light"
     },
     "output_type": "display_data"
    }
   ],
   "source": [
    "error_rate = []\n",
    "for i in range(1,50):\n",
    " knn = KNeighborsClassifier(n_neighbors=i)\n",
    " knn.fit(Xtrain,Ytrain)\n",
    " Ypred = knn.predict(Xtest)\n",
    " error_rate.append(np.mean(Ypred!= Ytest))\n",
    "\n",
    "plt.figure(figsize=(10,6))\n",
    "plt.plot(range(1,50),error_rate,color='blue', linestyle='dashed', \n",
    "         marker='o',markerfacecolor='red', markersize=10)\n",
    "plt.title('Error Rate vs. K Value')\n",
    "plt.xlabel('K')\n",
    "plt.ylabel('Error Rate')\n",
    "print(\"Minimum error:-\",min(error_rate),\"at K =\",error_rate.index(min(error_rate)))"
   ]
  },
  {
   "cell_type": "code",
   "execution_count": 42,
   "id": "63096bb8",
   "metadata": {},
   "outputs": [
    {
     "name": "stdout",
     "output_type": "stream",
     "text": [
      "(884, 245760) (884,) (221, 245760) (221,)\n"
     ]
    }
   ],
   "source": [
    "Xtrain,Xtest,Ytrain,Ytest=train_test_split(data_all_ar,labels_all_ar,test_size=0.2,random_state=42)\n",
    "print(Xtrain.shape,Ytrain.shape,Xtest.shape,Ytest.shape);"
   ]
  },
  {
   "cell_type": "code",
   "execution_count": 43,
   "id": "e7f5675e",
   "metadata": {},
   "outputs": [
    {
     "name": "stdout",
     "output_type": "stream",
     "text": [
      "Model accuracy score with k= 1  :  0.5248868778280543\n",
      "Model accuracy score with k= 2  :  0.4841628959276018\n",
      "Model accuracy score with k= 3  :  0.579185520361991\n",
      "Model accuracy score with k= 4  :  0.5972850678733032\n",
      "Model accuracy score with k= 5  :  0.5972850678733032\n",
      "Model accuracy score with k= 6  :  0.6063348416289592\n",
      "Model accuracy score with k= 7  :  0.6199095022624435\n",
      "Model accuracy score with k= 8  :  0.5972850678733032\n",
      "Model accuracy score with k= 9  :  0.6018099547511312\n",
      "Model accuracy score with k= 10  :  0.6063348416289592\n",
      "Model accuracy score with k= 11  :  0.6063348416289592\n",
      "Model accuracy score with k= 12  :  0.6018099547511312\n",
      "Model accuracy score with k= 13  :  0.6108597285067874\n",
      "Model accuracy score with k= 14  :  0.6018099547511312\n",
      "Model accuracy score with k= 15  :  0.6018099547511312\n",
      "Model accuracy score with k= 16  :  0.6153846153846154\n",
      "Model accuracy score with k= 17  :  0.6108597285067874\n",
      "Model accuracy score with k= 18  :  0.5927601809954751\n",
      "Model accuracy score with k= 19  :  0.6018099547511312\n",
      "Model accuracy score with k= 20  :  0.5882352941176471\n",
      "Model accuracy score with k= 21  :  0.6063348416289592\n",
      "Model accuracy score with k= 22  :  0.5882352941176471\n",
      "Model accuracy score with k= 23  :  0.6153846153846154\n",
      "Model accuracy score with k= 24  :  0.6063348416289592\n",
      "Model accuracy score with k= 25  :  0.6063348416289592\n",
      "Model accuracy score with k= 26  :  0.6063348416289592\n",
      "Model accuracy score with k= 27  :  0.6199095022624435\n",
      "Model accuracy score with k= 28  :  0.6153846153846154\n",
      "Model accuracy score with k= 29  :  0.6244343891402715\n",
      "Model accuracy score with k= 30  :  0.6153846153846154\n",
      "Model accuracy score with k= 31  :  0.6289592760180995\n",
      "Model accuracy score with k= 32  :  0.6289592760180995\n",
      "Model accuracy score with k= 33  :  0.6334841628959276\n",
      "Model accuracy score with k= 34  :  0.6289592760180995\n",
      "Model accuracy score with k= 35  :  0.6289592760180995\n",
      "Model accuracy score with k= 36  :  0.6289592760180995\n",
      "Model accuracy score with k= 37  :  0.6334841628959276\n",
      "Model accuracy score with k= 38  :  0.6334841628959276\n",
      "Model accuracy score with k= 39  :  0.6334841628959276\n",
      "Model accuracy score with k= 40  :  0.6334841628959276\n",
      "Model accuracy score with k= 41  :  0.6334841628959276\n",
      "Model accuracy score with k= 42  :  0.6334841628959276\n",
      "Model accuracy score with k= 43  :  0.6334841628959276\n",
      "Model accuracy score with k= 44  :  0.6334841628959276\n",
      "Model accuracy score with k= 45  :  0.6334841628959276\n",
      "Model accuracy score with k= 46  :  0.6334841628959276\n",
      "Model accuracy score with k= 47  :  0.6334841628959276\n",
      "Model accuracy score with k= 48  :  0.6334841628959276\n",
      "Model accuracy score with k= 49  :  0.6334841628959276\n"
     ]
    }
   ],
   "source": [
    "from sklearn.neighbors import KNeighborsClassifier\n",
    "# instantiate the model\n",
    "for i in range(1,50):\n",
    "    knn = KNeighborsClassifier(n_neighbors=i)\n",
    "    # fit the model to the training set\n",
    "    knn.fit(Xtrain,Ytrain)\n",
    "    Ypred=knn.predict(Xtest)\n",
    "    print('Model accuracy score with k=',i,' : ',accuracy_score(Ytest,Ypred))"
   ]
  },
  {
   "cell_type": "code",
   "execution_count": null,
   "id": "adb9fe0a",
   "metadata": {},
   "outputs": [],
   "source": []
  }
 ],
 "metadata": {
  "kernelspec": {
   "display_name": "Python 3 (ipykernel)",
   "language": "python",
   "name": "python3"
  },
  "language_info": {
   "codemirror_mode": {
    "name": "ipython",
    "version": 3
   },
   "file_extension": ".py",
   "mimetype": "text/x-python",
   "name": "python",
   "nbconvert_exporter": "python",
   "pygments_lexer": "ipython3",
   "version": "3.10.2"
  }
 },
 "nbformat": 4,
 "nbformat_minor": 5
}
