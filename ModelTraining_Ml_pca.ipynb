{
  "nbformat": 4,
  "nbformat_minor": 0,
  "metadata": {
    "colab": {
      "name": "ModelTraining_Ml_.ipynb",
      "provenance": [],
      "machine_shape": "hm",
      "mount_file_id": "1nrxqzkaWjJqcf0RidUZGA-4gZYpf4Gft",
      "authorship_tag": "ABX9TyPLRfd2AoaHGrEyMK/Fg8bD",
      "include_colab_link": true
    },
    "kernelspec": {
      "name": "python3",
      "display_name": "Python 3"
    },
    "language_info": {
      "name": "python"
    },
    "accelerator": "GPU",
    "gpuClass": "standard"
  },
  "cells": [
    {
      "cell_type": "markdown",
      "metadata": {
        "id": "view-in-github",
        "colab_type": "text"
      },
      "source": [
        "<a href=\"https://colab.research.google.com/github/manasarthak/Emotion-classification-using-physiological-signal/blob/main/ModelTraining_Ml_pca.ipynb\" target=\"_parent\"><img src=\"https://colab.research.google.com/assets/colab-badge.svg\" alt=\"Open In Colab\"/></a>"
      ]
    },
    {
      "cell_type": "code",
      "execution_count": 1,
      "metadata": {
        "id": "r9oKspY6zHCH"
      },
      "outputs": [],
      "source": [
        "import numpy as np\n",
        "from sklearn.utils import shuffle\n",
        "import matplotlib.pyplot as plt\n",
        "import math\n",
        "from sklearn.preprocessing import StandardScaler,MinMaxScaler\n",
        "from sklearn.model_selection import train_test_split\n",
        "from sklearn.metrics import accuracy_score\n",
        "from sklearn.svm import SVC\n",
        "from sklearn.neighbors import KNeighborsClassifier\n",
        "from sklearn.decomposition import PCA\n",
        "\n",
        "import pandas as pd"
      ]
    },
    {
      "cell_type": "code",
      "source": [
        "dataset=np.load('/content/drive/MyDrive/DEAP/extracted_features/'+'features.npy',allow_pickle=True)"
      ],
      "metadata": {
        "id": "DGkH-ZYNJHa3"
      },
      "execution_count": 2,
      "outputs": []
    },
    {
      "cell_type": "code",
      "source": [
        "labels_val=np.load('/content/drive/MyDrive/DEAP/valence/' + 'all_valence_labels.npy',allow_pickle=True);\n",
        "labels_ar=np.load('/content/drive/MyDrive/DEAP/arousal/'+'all_arousal_labels.npy',allow_pickle=True)"
      ],
      "metadata": {
        "id": "6aQZxG4AI9aT"
      },
      "execution_count": 3,
      "outputs": []
    },
    {
      "cell_type": "markdown",
      "source": [
        "Exploratory Data Analysis"
      ],
      "metadata": {
        "id": "id9IG6Vq2_U7"
      }
    },
    {
      "cell_type": "code",
      "source": [
        "dataset.shape"
      ],
      "metadata": {
        "colab": {
          "base_uri": "https://localhost:8080/"
        },
        "id": "P2sHdqkO3e2Z",
        "outputId": "f35f8c75-84ff-448b-e513-7dbf30b60a45"
      },
      "execution_count": 4,
      "outputs": [
        {
          "output_type": "execute_result",
          "data": {
            "text/plain": [
              "(1280, 296065)"
            ]
          },
          "metadata": {},
          "execution_count": 4
        }
      ]
    },
    {
      "cell_type": "markdown",
      "source": [
        "Normalising data"
      ],
      "metadata": {
        "id": "J8Vxua_3myC7"
      }
    },
    {
      "cell_type": "code",
      "source": [
        "scaler = MinMaxScaler()\n",
        "scaler.fit(dataset)\n",
        "dataset_norm = scaler.transform(dataset)"
      ],
      "metadata": {
        "id": "5-302hGe3lhl"
      },
      "execution_count": 5,
      "outputs": []
    },
    {
      "cell_type": "code",
      "source": [
        "dataset_norm"
      ],
      "metadata": {
        "id": "2K2h3nWE7f57",
        "colab": {
          "base_uri": "https://localhost:8080/"
        },
        "outputId": "bddfc482-2555-49d6-e41f-0206f2e300c3"
      },
      "execution_count": 6,
      "outputs": [
        {
          "output_type": "execute_result",
          "data": {
            "text/plain": [
              "array([[0.        , 0.37832494, 0.39200665, ..., 0.70844209, 0.7363598 ,\n",
              "        0.63749398],\n",
              "       [0.        , 0.3493968 , 0.38279535, ..., 0.63317524, 0.6549347 ,\n",
              "        0.56442378],\n",
              "       [0.        , 0.43191976, 0.4576753 , ..., 0.81138901, 0.87829562,\n",
              "        0.79154753],\n",
              "       ...,\n",
              "       [0.        , 0.39589771, 0.44309142, ..., 0.15014094, 0.02234762,\n",
              "        0.00296573],\n",
              "       [0.        , 0.40415303, 0.41135811, ..., 0.25040228, 0.03582643,\n",
              "        0.0044488 ],\n",
              "       [0.        , 0.39351987, 0.4089502 , ..., 0.1581727 , 0.01939812,\n",
              "        0.0021336 ]])"
            ]
          },
          "metadata": {},
          "execution_count": 6
        }
      ]
    },
    {
      "cell_type": "markdown",
      "source": [
        "Standardizing data"
      ],
      "metadata": {
        "id": "QuiUh7GNm5Fg"
      }
    },
    {
      "cell_type": "code",
      "source": [
        "scaler=StandardScaler()\n",
        "scaler.fit(dataset)\n",
        "dataset_stan=scaler.transform(dataset)"
      ],
      "metadata": {
        "id": "ql5BnCBAmwt7"
      },
      "execution_count": 7,
      "outputs": []
    },
    {
      "cell_type": "code",
      "source": [
        "dataset_stan"
      ],
      "metadata": {
        "colab": {
          "base_uri": "https://localhost:8080/"
        },
        "id": "G6ygweiNmw9c",
        "outputId": "ab44fa1d-3252-43f0-c327-cd24a9a5bece"
      },
      "execution_count": 8,
      "outputs": [
        {
          "output_type": "execute_result",
          "data": {
            "text/plain": [
              "array([[ 0.        , -0.326437  , -0.1951826 , ...,  4.00749835,\n",
              "         4.65525711,  3.4329132 ],\n",
              "       [ 0.        , -0.84369393, -0.34593267, ...,  3.50393268,\n",
              "         4.07582776,  2.96948166],\n",
              "       [ 0.        ,  0.63187892,  0.87953558, ...,  4.69625492,\n",
              "         5.66528693,  4.40996367],\n",
              "       ...,\n",
              "       [ 0.        , -0.01222249,  0.6408591 , ...,  0.27223762,\n",
              "        -0.42572681, -0.59144151],\n",
              "       [ 0.        ,  0.13538885,  0.12151895, ...,  0.94302659,\n",
              "        -0.3298102 , -0.58203549],\n",
              "       [ 0.        , -0.05474002,  0.08211159, ...,  0.32597333,\n",
              "        -0.44671575, -0.59671912]])"
            ]
          },
          "metadata": {},
          "execution_count": 8
        }
      ]
    },
    {
      "cell_type": "code",
      "source": [
        "Xtrain,Xtest,Ytrain,Ytest=train_test_split(dataset_stan,labels_ar,test_size=0.1,random_state=42,shuffle=True);\n",
        "print(Xtrain.shape,Ytrain.shape,Xtest.shape,Ytest.shape);"
      ],
      "metadata": {
        "colab": {
          "base_uri": "https://localhost:8080/"
        },
        "id": "fNcTdt-ywZo9",
        "outputId": "a56b40f4-9ad0-4435-9484-968fe0968a63"
      },
      "execution_count": 9,
      "outputs": [
        {
          "output_type": "stream",
          "name": "stdout",
          "text": [
            "(1152, 296065) (1152,) (128, 296065) (128,)\n"
          ]
        }
      ]
    },
    {
      "cell_type": "markdown",
      "source": [
        "As the number of features is too much for in built models to predict we want to reduce the number of dimensions by performing the Principal Component Analysis."
      ],
      "metadata": {
        "id": "DU7LNd81PIbz"
      }
    },
    {
      "cell_type": "code",
      "source": [
        "pca = PCA().fit(Xtrain)\n",
        "plt.plot(np.cumsum(pca.explained_variance_ratio_))\n",
        "plt.xlabel('number of components')\n",
        "plt.ylabel('cumulative explained variance');"
      ],
      "metadata": {
        "colab": {
          "base_uri": "https://localhost:8080/",
          "height": 279
        },
        "id": "hyYhNwpW_Un_",
        "outputId": "abe2d658-3e4b-4761-b37d-02dc62644dcb"
      },
      "execution_count": 10,
      "outputs": [
        {
          "output_type": "display_data",
          "data": {
            "text/plain": [
              "<Figure size 432x288 with 1 Axes>"
            ],
            "image/png": "[encoded data removed]"
          },
          "metadata": {
            "needs_background": "light"
          }
        }
      ]
    },
    {
      "cell_type": "markdown",
      "source": [
        "By convention lets use the number of components equal to the number of sample i.e. 1152. From the plot we can infer that more than 90% of variance can be accounted by 400 features."
      ],
      "metadata": {
        "id": "Kz_5Vyee4eN5"
      }
    },
    {
      "cell_type": "code",
      "source": [
        "pca= PCA(n_components=1152);\n",
        "Xtrain=pca.fit_transform(Xtrain)\n",
        "Xtest=pca.transform(Xtest)\n",
        "explained_variance=pca.explained_variance_ratio_"
      ],
      "metadata": {
        "id": "K7f00EoH3lQw"
      },
      "execution_count": 11,
      "outputs": []
    },
    {
      "cell_type": "markdown",
      "source": [
        ""
      ],
      "metadata": {
        "id": "j3TZt9vn4SpX"
      }
    },
    {
      "cell_type": "code",
      "source": [
        "svc=SVC()\n",
        "svc.fit(Xtrain,Ytrain)\n",
        "Ytpred=svc.predict(Xtrain)\n",
        "Ypred=svc.predict(Xtest)\n",
        "print('Model accuracy score with default hyperparameters i.e C=1,kernel=rbf,gamma=auto : ',accuracy_score(Ytrain,Ytpred),accuracy_score(Ytest,Ypred))"
      ],
      "metadata": {
        "colab": {
          "base_uri": "https://localhost:8080/"
        },
        "id": "baLHb_g_wZsd",
        "outputId": "14eb2faf-37f4-4525-d38e-9603cf13de80"
      },
      "execution_count": 12,
      "outputs": [
        {
          "output_type": "stream",
          "name": "stdout",
          "text": [
            "Model accuracy score with default hyperparameters i.e C=1,kernel=rbf,gamma=auto :  0.734375 0.609375\n"
          ]
        }
      ]
    },
    {
      "cell_type": "code",
      "source": [
        "svc=SVC(kernel='linear')\n",
        "svc.fit(Xtrain,Ytrain)\n",
        "Ytpred=svc.predict(Xtrain)\n",
        "Ypred=svc.predict(Xtest)\n",
        "print('Model accuracy score after increasing the value of C i.e C=1.0,kernel=linear,gamma=auto : ',accuracy_score(Ytrain,Ytpred),accuracy_score(Ytest,Ypred))"
      ],
      "metadata": {
        "id": "MPDSimcJxwgK",
        "colab": {
          "base_uri": "https://localhost:8080/"
        },
        "outputId": "8da8daf9-f6d1-4e26-ec83-2d9853c40aea"
      },
      "execution_count": 13,
      "outputs": [
        {
          "output_type": "stream",
          "name": "stdout",
          "text": [
            "Model accuracy score after increasing the value of C i.e C=1.0,kernel=linear,gamma=auto :  1.0 0.5625\n"
          ]
        }
      ]
    },
    {
      "cell_type": "code",
      "source": [
        "for i in range(1,50):\n",
        "    knn = KNeighborsClassifier(n_neighbors=i)\n",
        "    # fit the model to the training set\n",
        "    knn.fit(Xtrain,Ytrain)\n",
        "    Ytpred=knn.predict(Xtrain)\n",
        "    Ypred=knn.predict(Xtest)\n",
        "    print('Model accuracy score with k=',i,' : ',accuracy_score(Ytrain,Ytpred),accuracy_score(Ytest,Ypred))"
      ],
      "metadata": {
        "id": "7op6rHBCyBgg",
        "colab": {
          "base_uri": "https://localhost:8080/"
        },
        "outputId": "a06434c4-7994-4de5-ffe8-18b59f3990cd"
      },
      "execution_count": 14,
      "outputs": [
        {
          "output_type": "stream",
          "name": "stdout",
          "text": [
            "Model accuracy score with k= 1  :  1.0 0.6328125\n",
            "Model accuracy score with k= 2  :  0.7829861111111112 0.6171875\n",
            "Model accuracy score with k= 3  :  0.7743055555555556 0.6015625\n",
            "Model accuracy score with k= 4  :  0.7265625 0.6015625\n",
            "Model accuracy score with k= 5  :  0.7404513888888888 0.546875\n",
            "Model accuracy score with k= 6  :  0.7161458333333334 0.546875\n",
            "Model accuracy score with k= 7  :  0.7065972222222222 0.5703125\n",
            "Model accuracy score with k= 8  :  0.6979166666666666 0.578125\n",
            "Model accuracy score with k= 9  :  0.7005208333333334 0.578125\n",
            "Model accuracy score with k= 10  :  0.7005208333333334 0.6015625\n",
            "Model accuracy score with k= 11  :  0.6996527777777778 0.5859375\n",
            "Model accuracy score with k= 12  :  0.6866319444444444 0.5859375\n",
            "Model accuracy score with k= 13  :  0.6831597222222222 0.6171875\n",
            "Model accuracy score with k= 14  :  0.6762152777777778 0.609375\n",
            "Model accuracy score with k= 15  :  0.6657986111111112 0.6015625\n",
            "Model accuracy score with k= 16  :  0.6736111111111112 0.59375\n",
            "Model accuracy score with k= 17  :  0.6770833333333334 0.609375\n",
            "Model accuracy score with k= 18  :  0.6744791666666666 0.625\n",
            "Model accuracy score with k= 19  :  0.6848958333333334 0.625\n",
            "Model accuracy score with k= 20  :  0.6692708333333334 0.6171875\n",
            "Model accuracy score with k= 21  :  0.6727430555555556 0.59375\n",
            "Model accuracy score with k= 22  :  0.6727430555555556 0.578125\n",
            "Model accuracy score with k= 23  :  0.6701388888888888 0.578125\n",
            "Model accuracy score with k= 24  :  0.6701388888888888 0.5703125\n",
            "Model accuracy score with k= 25  :  0.6675347222222222 0.578125\n",
            "Model accuracy score with k= 26  :  0.6649305555555556 0.5625\n",
            "Model accuracy score with k= 27  :  0.6588541666666666 0.5859375\n",
            "Model accuracy score with k= 28  :  0.6614583333333334 0.609375\n",
            "Model accuracy score with k= 29  :  0.6501736111111112 0.59375\n",
            "Model accuracy score with k= 30  :  0.6510416666666666 0.6015625\n",
            "Model accuracy score with k= 31  :  0.6432291666666666 0.59375\n",
            "Model accuracy score with k= 32  :  0.6484375 0.5859375\n",
            "Model accuracy score with k= 33  :  0.6467013888888888 0.6015625\n",
            "Model accuracy score with k= 34  :  0.6501736111111112 0.6015625\n",
            "Model accuracy score with k= 35  :  0.6519097222222222 0.6015625\n",
            "Model accuracy score with k= 36  :  0.6553819444444444 0.609375\n",
            "Model accuracy score with k= 37  :  0.6527777777777778 0.6015625\n",
            "Model accuracy score with k= 38  :  0.65625 0.6015625\n",
            "Model accuracy score with k= 39  :  0.6510416666666666 0.609375\n",
            "Model accuracy score with k= 40  :  0.6501736111111112 0.5859375\n",
            "Model accuracy score with k= 41  :  0.6484375 0.5859375\n",
            "Model accuracy score with k= 42  :  0.6527777777777778 0.5859375\n",
            "Model accuracy score with k= 43  :  0.6519097222222222 0.59375\n",
            "Model accuracy score with k= 44  :  0.6553819444444444 0.5859375\n",
            "Model accuracy score with k= 45  :  0.6545138888888888 0.5703125\n",
            "Model accuracy score with k= 46  :  0.6501736111111112 0.5703125\n",
            "Model accuracy score with k= 47  :  0.6501736111111112 0.5703125\n",
            "Model accuracy score with k= 48  :  0.6510416666666666 0.578125\n",
            "Model accuracy score with k= 49  :  0.65625 0.5703125\n"
          ]
        }
      ]
    },
    {
      "cell_type": "code",
      "source": [
        "np.save('/content/drive/MyDrive/DEAP/total_extracted_features/' + 'ar_total_train.npy', Xtrain)\n",
        "np.save('/content/drive/MyDrive/DEAP/total_extracted_features/' + 'ar_total_test.npy', Xtest)\n",
        "np.save('/content/drive/MyDrive/DEAP/total_extracted_features/' + 'ar_total_train_lab.npy', Ytrain)\n",
        "np.save('/content/drive/MyDrive/DEAP/total_extracted_features/' + 'ar_total_test_lab.npy', Ytest)"
      ],
      "metadata": {
        "id": "jAa9HIitDSS4"
      },
      "execution_count": null,
      "outputs": []
    }
  ]
}